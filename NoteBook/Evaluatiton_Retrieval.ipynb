{
 "cells": [
  {
   "cell_type": "code",
   "execution_count": 1,
   "id": "5f6d7f18-b20f-40df-bdd9-f1a06e1d8c56",
   "metadata": {},
   "outputs": [
    {
     "name": "stdout",
     "output_type": "stream",
     "text": [
      "Collecting numpy<2\n",
      "  Using cached numpy-1.26.4-cp312-cp312-macosx_11_0_arm64.whl.metadata (61 kB)\n",
      "Using cached numpy-1.26.4-cp312-cp312-macosx_11_0_arm64.whl (13.7 MB)\n",
      "Installing collected packages: numpy\n",
      "\u001b[31mERROR: pip's dependency resolver does not currently take into account all the packages that are installed. This behaviour is the source of the following dependency conflicts.\n",
      "thinc 8.3.6 requires numpy<3.0.0,>=2.0.0, but you have numpy 1.26.4 which is incompatible.\u001b[0m\u001b[31m\n",
      "\u001b[0mSuccessfully installed numpy-1.26.4\n"
     ]
    }
   ],
   "source": [
    "!pip install \"numpy<2\""
   ]
  },
  {
   "cell_type": "code",
   "execution_count": 4,
   "id": "33f7d08a-2ea7-4f39-8f49-87ad88bf82ce",
   "metadata": {
    "scrolled": true
   },
   "outputs": [
    {
     "name": "stdout",
     "output_type": "stream",
     "text": [
      "Collecting pandas<2.2\n",
      "  Downloading pandas-2.1.4-cp312-cp312-macosx_11_0_arm64.whl.metadata (18 kB)\n",
      "Collecting spacy<3.7\n",
      "  Downloading spacy-3.6.1.tar.gz (1.3 MB)\n",
      "\u001b[2K     \u001b[38;2;114;156;31m━━━━━━━━━━━━━━━━━━━━━━━━━━━━━━━━━━━━━━━━\u001b[0m \u001b[32m1.3/1.3 MB\u001b[0m \u001b[31m1.8 MB/s\u001b[0m eta \u001b[36m0:00:00\u001b[0m[31m1.6 MB/s\u001b[0m eta \u001b[36m0:00:01\u001b[0m\n",
      "\u001b[?25h  Installing build dependencies ... \u001b[?25lerror\n",
      "  \u001b[1;31merror\u001b[0m: \u001b[1msubprocess-exited-with-error\u001b[0m\n",
      "  \n",
      "  \u001b[31m×\u001b[0m \u001b[32mpip subprocess to install build dependencies\u001b[0m did not run successfully.\n",
      "  \u001b[31m│\u001b[0m exit code: \u001b[1;36m1\u001b[0m\n",
      "  \u001b[31m╰─>\u001b[0m \u001b[31m[405 lines of output]\u001b[0m\n",
      "  \u001b[31m   \u001b[0m Collecting setuptools\n",
      "  \u001b[31m   \u001b[0m   Using cached setuptools-80.9.0-py3-none-any.whl.metadata (6.6 kB)\n",
      "  \u001b[31m   \u001b[0m Collecting cython<3.0,>=0.25\n",
      "  \u001b[31m   \u001b[0m   Downloading Cython-0.29.37-py2.py3-none-any.whl.metadata (3.1 kB)\n",
      "  \u001b[31m   \u001b[0m Collecting cymem<2.1.0,>=2.0.2\n",
      "  \u001b[31m   \u001b[0m   Using cached cymem-2.0.11-cp312-cp312-macosx_11_0_arm64.whl.metadata (8.5 kB)\n",
      "  \u001b[31m   \u001b[0m Collecting preshed<3.1.0,>=3.0.2\n",
      "  \u001b[31m   \u001b[0m   Using cached preshed-3.0.10-cp312-cp312-macosx_11_0_arm64.whl.metadata (2.4 kB)\n",
      "  \u001b[31m   \u001b[0m Collecting murmurhash<1.1.0,>=0.28.0\n",
      "  \u001b[31m   \u001b[0m   Using cached murmurhash-1.0.13-cp312-cp312-macosx_11_0_arm64.whl.metadata (2.2 kB)\n",
      "  \u001b[31m   \u001b[0m Collecting thinc<8.2.0,>=8.1.8\n",
      "  \u001b[31m   \u001b[0m   Downloading thinc-8.1.12.tar.gz (190 kB)\n",
      "  \u001b[31m   \u001b[0m   Installing build dependencies: started\n",
      "  \u001b[31m   \u001b[0m   Installing build dependencies: finished with status 'done'\n",
      "  \u001b[31m   \u001b[0m   Getting requirements to build wheel: started\n",
      "  \u001b[31m   \u001b[0m   Getting requirements to build wheel: finished with status 'done'\n",
      "  \u001b[31m   \u001b[0m   Preparing metadata (pyproject.toml): started\n",
      "  \u001b[31m   \u001b[0m   Preparing metadata (pyproject.toml): finished with status 'done'\n",
      "  \u001b[31m   \u001b[0m Collecting numpy>=1.15.0\n",
      "  \u001b[31m   \u001b[0m   Using cached numpy-2.3.0-cp312-cp312-macosx_14_0_arm64.whl.metadata (62 kB)\n",
      "  \u001b[31m   \u001b[0m Collecting blis<0.8.0,>=0.7.8 (from thinc<8.2.0,>=8.1.8)\n",
      "  \u001b[31m   \u001b[0m   Using cached blis-0.7.11-cp312-cp312-macosx_11_0_arm64.whl.metadata (7.4 kB)\n",
      "  \u001b[31m   \u001b[0m Collecting wasabi<1.2.0,>=0.8.1 (from thinc<8.2.0,>=8.1.8)\n",
      "  \u001b[31m   \u001b[0m   Using cached wasabi-1.1.3-py3-none-any.whl.metadata (28 kB)\n",
      "  \u001b[31m   \u001b[0m Collecting srsly<3.0.0,>=2.4.0 (from thinc<8.2.0,>=8.1.8)\n",
      "  \u001b[31m   \u001b[0m   Using cached srsly-2.5.1-cp312-cp312-macosx_11_0_arm64.whl.metadata (19 kB)\n",
      "  \u001b[31m   \u001b[0m Collecting catalogue<2.1.0,>=2.0.4 (from thinc<8.2.0,>=8.1.8)\n",
      "  \u001b[31m   \u001b[0m   Using cached catalogue-2.0.10-py3-none-any.whl.metadata (14 kB)\n",
      "  \u001b[31m   \u001b[0m Collecting confection<1.0.0,>=0.0.1 (from thinc<8.2.0,>=8.1.8)\n",
      "  \u001b[31m   \u001b[0m   Using cached confection-0.1.5-py3-none-any.whl.metadata (19 kB)\n",
      "  \u001b[31m   \u001b[0m Collecting pydantic!=1.8,!=1.8.1,<3.0.0,>=1.7.4 (from thinc<8.2.0,>=8.1.8)\n",
      "  \u001b[31m   \u001b[0m   Using cached pydantic-2.11.7-py3-none-any.whl.metadata (67 kB)\n",
      "  \u001b[31m   \u001b[0m Collecting packaging>=20.0 (from thinc<8.2.0,>=8.1.8)\n",
      "  \u001b[31m   \u001b[0m   Using cached packaging-25.0-py3-none-any.whl.metadata (3.3 kB)\n",
      "  \u001b[31m   \u001b[0m Collecting annotated-types>=0.6.0 (from pydantic!=1.8,!=1.8.1,<3.0.0,>=1.7.4->thinc<8.2.0,>=8.1.8)\n",
      "  \u001b[31m   \u001b[0m   Using cached annotated_types-0.7.0-py3-none-any.whl.metadata (15 kB)\n",
      "  \u001b[31m   \u001b[0m Collecting pydantic-core==2.33.2 (from pydantic!=1.8,!=1.8.1,<3.0.0,>=1.7.4->thinc<8.2.0,>=8.1.8)\n",
      "  \u001b[31m   \u001b[0m   Using cached pydantic_core-2.33.2-cp312-cp312-macosx_11_0_arm64.whl.metadata (6.8 kB)\n",
      "  \u001b[31m   \u001b[0m Collecting typing-extensions>=4.12.2 (from pydantic!=1.8,!=1.8.1,<3.0.0,>=1.7.4->thinc<8.2.0,>=8.1.8)\n",
      "  \u001b[31m   \u001b[0m   Using cached typing_extensions-4.14.0-py3-none-any.whl.metadata (3.0 kB)\n",
      "  \u001b[31m   \u001b[0m Collecting typing-inspection>=0.4.0 (from pydantic!=1.8,!=1.8.1,<3.0.0,>=1.7.4->thinc<8.2.0,>=8.1.8)\n",
      "  \u001b[31m   \u001b[0m   Using cached typing_inspection-0.4.1-py3-none-any.whl.metadata (2.6 kB)\n",
      "  \u001b[31m   \u001b[0m Using cached setuptools-80.9.0-py3-none-any.whl (1.2 MB)\n",
      "  \u001b[31m   \u001b[0m Using cached Cython-0.29.37-py2.py3-none-any.whl (989 kB)\n",
      "  \u001b[31m   \u001b[0m Using cached cymem-2.0.11-cp312-cp312-macosx_11_0_arm64.whl (42 kB)\n",
      "  \u001b[31m   \u001b[0m Using cached preshed-3.0.10-cp312-cp312-macosx_11_0_arm64.whl (126 kB)\n",
      "  \u001b[31m   \u001b[0m Using cached murmurhash-1.0.13-cp312-cp312-macosx_11_0_arm64.whl (26 kB)\n",
      "  \u001b[31m   \u001b[0m Using cached numpy-2.3.0-cp312-cp312-macosx_14_0_arm64.whl (5.1 MB)\n",
      "  \u001b[31m   \u001b[0m Using cached blis-0.7.11-cp312-cp312-macosx_11_0_arm64.whl (1.1 MB)\n",
      "  \u001b[31m   \u001b[0m Using cached catalogue-2.0.10-py3-none-any.whl (17 kB)\n",
      "  \u001b[31m   \u001b[0m Using cached confection-0.1.5-py3-none-any.whl (35 kB)\n",
      "  \u001b[31m   \u001b[0m Using cached packaging-25.0-py3-none-any.whl (66 kB)\n",
      "  \u001b[31m   \u001b[0m Using cached pydantic-2.11.7-py3-none-any.whl (444 kB)\n",
      "  \u001b[31m   \u001b[0m Using cached pydantic_core-2.33.2-cp312-cp312-macosx_11_0_arm64.whl (1.8 MB)\n",
      "  \u001b[31m   \u001b[0m Using cached srsly-2.5.1-cp312-cp312-macosx_11_0_arm64.whl (634 kB)\n",
      "  \u001b[31m   \u001b[0m Using cached wasabi-1.1.3-py3-none-any.whl (27 kB)\n",
      "  \u001b[31m   \u001b[0m Using cached annotated_types-0.7.0-py3-none-any.whl (13 kB)\n",
      "  \u001b[31m   \u001b[0m Using cached typing_extensions-4.14.0-py3-none-any.whl (43 kB)\n",
      "  \u001b[31m   \u001b[0m Using cached typing_inspection-0.4.1-py3-none-any.whl (14 kB)\n",
      "  \u001b[31m   \u001b[0m Building wheels for collected packages: thinc\n",
      "  \u001b[31m   \u001b[0m   Building wheel for thinc (pyproject.toml): started\n",
      "  \u001b[31m   \u001b[0m   Building wheel for thinc (pyproject.toml): finished with status 'error'\n",
      "  \u001b[31m   \u001b[0m   \u001b[1;31merror\u001b[0m: \u001b[1msubprocess-exited-with-error\u001b[0m\n",
      "  \u001b[31m   \u001b[0m \n",
      "  \u001b[31m   \u001b[0m   \u001b[31m×\u001b[0m \u001b[32mBuilding wheel for thinc \u001b[0m\u001b[1;32m(\u001b[0m\u001b[32mpyproject.toml\u001b[0m\u001b[1;32m)\u001b[0m did not run successfully.\n",
      "  \u001b[31m   \u001b[0m   \u001b[31m│\u001b[0m exit code: \u001b[1;36m1\u001b[0m\n",
      "  \u001b[31m   \u001b[0m   \u001b[31m╰─>\u001b[0m \u001b[31m[331 lines of output]\u001b[0m\n",
      "  \u001b[31m   \u001b[0m   \u001b[31m   \u001b[0m Cythonizing sources\n",
      "  \u001b[31m   \u001b[0m   \u001b[31m   \u001b[0m /private/var/folders/pg/jb8x93712rx_j030xp_lp3_m0000gn/T/pip-build-env-y9af5ra4/overlay/lib/python3.12/site-packages/setuptools/dist.py:759: SetuptoolsDeprecationWarning: License classifiers are deprecated.\n",
      "  \u001b[31m   \u001b[0m   \u001b[31m   \u001b[0m !!\n",
      "  \u001b[31m   \u001b[0m   \u001b[31m   \u001b[0m\n",
      "  \u001b[31m   \u001b[0m   \u001b[31m   \u001b[0m         ********************************************************************************\n",
      "  \u001b[31m   \u001b[0m   \u001b[31m   \u001b[0m         Please consider removing the following classifiers in favor of a SPDX license expression:\n",
      "  \u001b[31m   \u001b[0m   \u001b[31m   \u001b[0m\n",
      "  \u001b[31m   \u001b[0m   \u001b[31m   \u001b[0m         License :: OSI Approved :: MIT License\n",
      "  \u001b[31m   \u001b[0m   \u001b[31m   \u001b[0m\n",
      "  \u001b[31m   \u001b[0m   \u001b[31m   \u001b[0m         See https://packaging.python.org/en/latest/guides/writing-pyproject-toml/#license for details.\n",
      "  \u001b[31m   \u001b[0m   \u001b[31m   \u001b[0m         ********************************************************************************\n",
      "  \u001b[31m   \u001b[0m   \u001b[31m   \u001b[0m\n",
      "  \u001b[31m   \u001b[0m   \u001b[31m   \u001b[0m !!\n",
      "  \u001b[31m   \u001b[0m   \u001b[31m   \u001b[0m   self._finalize_license_expression()\n",
      "  \u001b[31m   \u001b[0m   \u001b[31m   \u001b[0m running bdist_wheel\n",
      "  \u001b[31m   \u001b[0m   \u001b[31m   \u001b[0m running build\n",
      "  \u001b[31m   \u001b[0m   \u001b[31m   \u001b[0m running build_py\n",
      "  \u001b[31m   \u001b[0m   \u001b[31m   \u001b[0m creating build/lib.macosx-11.1-arm64-cpython-312/thinc\n",
      "  \u001b[31m   \u001b[0m   \u001b[31m   \u001b[0m copying thinc/config.py -> build/lib.macosx-11.1-arm64-cpython-312/thinc\n",
      "  \u001b[31m   \u001b[0m   \u001b[31m   \u001b[0m copying thinc/compat.py -> build/lib.macosx-11.1-arm64-cpython-312/thinc\n",
      "  \u001b[31m   \u001b[0m   \u001b[31m   \u001b[0m copying thinc/util.py -> build/lib.macosx-11.1-arm64-cpython-312/thinc\n",
      "  \u001b[31m   \u001b[0m   \u001b[31m   \u001b[0m copying thinc/__init__.py -> build/lib.macosx-11.1-arm64-cpython-312/thinc\n",
      "  \u001b[31m   \u001b[0m   \u001b[31m   \u001b[0m copying thinc/mypy.py -> build/lib.macosx-11.1-arm64-cpython-312/thinc\n",
      "  \u001b[31m   \u001b[0m   \u001b[31m   \u001b[0m copying thinc/types.py -> build/lib.macosx-11.1-arm64-cpython-312/thinc\n",
      "  \u001b[31m   \u001b[0m   \u001b[31m   \u001b[0m copying thinc/about.py -> build/lib.macosx-11.1-arm64-cpython-312/thinc\n",
      "  \u001b[31m   \u001b[0m   \u001b[31m   \u001b[0m copying thinc/model.py -> build/lib.macosx-11.1-arm64-cpython-312/thinc\n",
      "  \u001b[31m   \u001b[0m   \u001b[31m   \u001b[0m copying thinc/optimizers.py -> build/lib.macosx-11.1-arm64-cpython-312/thinc\n",
      "  \u001b[31m   \u001b[0m   \u001b[31m   \u001b[0m copying thinc/api.py -> build/lib.macosx-11.1-arm64-cpython-312/thinc\n",
      "  \u001b[31m   \u001b[0m   \u001b[31m   \u001b[0m copying thinc/loss.py -> build/lib.macosx-11.1-arm64-cpython-312/thinc\n",
      "  \u001b[31m   \u001b[0m   \u001b[31m   \u001b[0m copying thinc/initializers.py -> build/lib.macosx-11.1-arm64-cpython-312/thinc\n",
      "  \u001b[31m   \u001b[0m   \u001b[31m   \u001b[0m copying thinc/schedules.py -> build/lib.macosx-11.1-arm64-cpython-312/thinc\n",
      "  \u001b[31m   \u001b[0m   \u001b[31m   \u001b[0m creating build/lib.macosx-11.1-arm64-cpython-312/thinc/layers\n",
      "  \u001b[31m   \u001b[0m   \u001b[31m   \u001b[0m copying thinc/layers/remap_ids.py -> build/lib.macosx-11.1-arm64-cpython-312/thinc/layers\n",
      "  \u001b[31m   \u001b[0m   \u001b[31m   \u001b[0m copying thinc/layers/with_debug.py -> build/lib.macosx-11.1-arm64-cpython-312/thinc/layers\n",
      "  \u001b[31m   \u001b[0m   \u001b[31m   \u001b[0m copying thinc/layers/mxnetwrapper.py -> build/lib.macosx-11.1-arm64-cpython-312/thinc/layers\n",
      "  \u001b[31m   \u001b[0m   \u001b[31m   \u001b[0m copying thinc/layers/siamese.py -> build/lib.macosx-11.1-arm64-cpython-312/thinc/layers\n",
      "  \u001b[31m   \u001b[0m   \u001b[31m   \u001b[0m copying thinc/layers/concatenate.py -> build/lib.macosx-11.1-arm64-cpython-312/thinc/layers\n",
      "  \u001b[31m   \u001b[0m   \u001b[31m   \u001b[0m copying thinc/layers/reduce_sum.py -> build/lib.macosx-11.1-arm64-cpython-312/thinc/layers\n",
      "  \u001b[31m   \u001b[0m   \u001b[31m   \u001b[0m copying thinc/layers/softmax_activation.py -> build/lib.macosx-11.1-arm64-cpython-312/thinc/layers\n",
      "  \u001b[31m   \u001b[0m   \u001b[31m   \u001b[0m copying thinc/layers/hashembed.py -> build/lib.macosx-11.1-arm64-cpython-312/thinc/layers\n",
      "  \u001b[31m   \u001b[0m   \u001b[31m   \u001b[0m copying thinc/layers/expand_window.py -> build/lib.macosx-11.1-arm64-cpython-312/thinc/layers\n",
      "  \u001b[31m   \u001b[0m   \u001b[31m   \u001b[0m copying thinc/layers/list2padded.py -> build/lib.macosx-11.1-arm64-cpython-312/thinc/layers\n",
      "  \u001b[31m   \u001b[0m   \u001b[31m   \u001b[0m copying thinc/layers/with_padded.py -> build/lib.macosx-11.1-arm64-cpython-312/thinc/layers\n",
      "  \u001b[31m   \u001b[0m   \u001b[31m   \u001b[0m copying thinc/layers/with_nvtx_range.py -> build/lib.macosx-11.1-arm64-cpython-312/thinc/layers\n",
      "  \u001b[31m   \u001b[0m   \u001b[31m   \u001b[0m copying thinc/layers/layernorm.py -> build/lib.macosx-11.1-arm64-cpython-312/thinc/layers\n",
      "  \u001b[31m   \u001b[0m   \u001b[31m   \u001b[0m copying thinc/layers/maxout.py -> build/lib.macosx-11.1-arm64-cpython-312/thinc/layers\n",
      "  \u001b[31m   \u001b[0m   \u001b[31m   \u001b[0m copying thinc/layers/add.py -> build/lib.macosx-11.1-arm64-cpython-312/thinc/layers\n",
      "  \u001b[31m   \u001b[0m   \u001b[31m   \u001b[0m copying thinc/layers/embed.py -> build/lib.macosx-11.1-arm64-cpython-312/thinc/layers\n",
      "  \u001b[31m   \u001b[0m   \u001b[31m   \u001b[0m copying thinc/layers/residual.py -> build/lib.macosx-11.1-arm64-cpython-312/thinc/layers\n",
      "  \u001b[31m   \u001b[0m   \u001b[31m   \u001b[0m copying thinc/layers/reduce_first.py -> build/lib.macosx-11.1-arm64-cpython-312/thinc/layers\n",
      "  \u001b[31m   \u001b[0m   \u001b[31m   \u001b[0m copying thinc/layers/chain.py -> build/lib.macosx-11.1-arm64-cpython-312/thinc/layers\n",
      "  \u001b[31m   \u001b[0m   \u001b[31m   \u001b[0m copying thinc/layers/logistic.py -> build/lib.macosx-11.1-arm64-cpython-312/thinc/layers\n",
      "  \u001b[31m   \u001b[0m   \u001b[31m   \u001b[0m copying thinc/layers/linear.py -> build/lib.macosx-11.1-arm64-cpython-312/thinc/layers\n",
      "  \u001b[31m   \u001b[0m   \u001b[31m   \u001b[0m copying thinc/layers/gelu.py -> build/lib.macosx-11.1-arm64-cpython-312/thinc/layers\n",
      "  \u001b[31m   \u001b[0m   \u001b[31m   \u001b[0m copying thinc/layers/with_cpu.py -> build/lib.macosx-11.1-arm64-cpython-312/thinc/layers\n",
      "  \u001b[31m   \u001b[0m   \u001b[31m   \u001b[0m copying thinc/layers/torchscriptwrapper.py -> build/lib.macosx-11.1-arm64-cpython-312/thinc/layers\n",
      "  \u001b[31m   \u001b[0m   \u001b[31m   \u001b[0m copying thinc/layers/mish.py -> build/lib.macosx-11.1-arm64-cpython-312/thinc/layers\n",
      "  \u001b[31m   \u001b[0m   \u001b[31m   \u001b[0m copying thinc/layers/sigmoid_activation.py -> build/lib.macosx-11.1-arm64-cpython-312/thinc/layers\n",
      "  \u001b[31m   \u001b[0m   \u001b[31m   \u001b[0m copying thinc/layers/__init__.py -> build/lib.macosx-11.1-arm64-cpython-312/thinc/layers\n",
      "  \u001b[31m   \u001b[0m   \u001b[31m   \u001b[0m copying thinc/layers/pytorchwrapper.py -> build/lib.macosx-11.1-arm64-cpython-312/thinc/layers\n",
      "  \u001b[31m   \u001b[0m   \u001b[31m   \u001b[0m copying thinc/layers/with_array.py -> build/lib.macosx-11.1-arm64-cpython-312/thinc/layers\n",
      "  \u001b[31m   \u001b[0m   \u001b[31m   \u001b[0m copying thinc/layers/bidirectional.py -> build/lib.macosx-11.1-arm64-cpython-312/thinc/layers\n",
      "  \u001b[31m   \u001b[0m   \u001b[31m   \u001b[0m copying thinc/layers/hard_swish.py -> build/lib.macosx-11.1-arm64-cpython-312/thinc/layers\n",
      "  \u001b[31m   \u001b[0m   \u001b[31m   \u001b[0m copying thinc/layers/uniqued.py -> build/lib.macosx-11.1-arm64-cpython-312/thinc/layers\n",
      "  \u001b[31m   \u001b[0m   \u001b[31m   \u001b[0m copying thinc/layers/padded2list.py -> build/lib.macosx-11.1-arm64-cpython-312/thinc/layers\n",
      "  \u001b[31m   \u001b[0m   \u001b[31m   \u001b[0m copying thinc/layers/cauchysimilarity.py -> build/lib.macosx-11.1-arm64-cpython-312/thinc/layers\n",
      "  \u001b[31m   \u001b[0m   \u001b[31m   \u001b[0m copying thinc/layers/with_array2d.py -> build/lib.macosx-11.1-arm64-cpython-312/thinc/layers\n",
      "  \u001b[31m   \u001b[0m   \u001b[31m   \u001b[0m copying thinc/layers/strings2arrays.py -> build/lib.macosx-11.1-arm64-cpython-312/thinc/layers\n",
      "  \u001b[31m   \u001b[0m   \u001b[31m   \u001b[0m copying thinc/layers/with_getitem.py -> build/lib.macosx-11.1-arm64-cpython-312/thinc/layers\n",
      "  \u001b[31m   \u001b[0m   \u001b[31m   \u001b[0m copying thinc/layers/with_flatten_v2.py -> build/lib.macosx-11.1-arm64-cpython-312/thinc/layers\n",
      "  \u001b[31m   \u001b[0m   \u001b[31m   \u001b[0m copying thinc/layers/clipped_linear.py -> build/lib.macosx-11.1-arm64-cpython-312/thinc/layers\n",
      "  \u001b[31m   \u001b[0m   \u001b[31m   \u001b[0m copying thinc/layers/with_reshape.py -> build/lib.macosx-11.1-arm64-cpython-312/thinc/layers\n",
      "  \u001b[31m   \u001b[0m   \u001b[31m   \u001b[0m copying thinc/layers/tensorflowwrapper.py -> build/lib.macosx-11.1-arm64-cpython-312/thinc/layers\n",
      "  \u001b[31m   \u001b[0m   \u001b[31m   \u001b[0m copying thinc/layers/hard_swish_mobilenet.py -> build/lib.macosx-11.1-arm64-cpython-312/thinc/layers\n",
      "  \u001b[31m   \u001b[0m   \u001b[31m   \u001b[0m copying thinc/layers/noop.py -> build/lib.macosx-11.1-arm64-cpython-312/thinc/layers\n",
      "  \u001b[31m   \u001b[0m   \u001b[31m   \u001b[0m copying thinc/layers/relu.py -> build/lib.macosx-11.1-arm64-cpython-312/thinc/layers\n",
      "  \u001b[31m   \u001b[0m   \u001b[31m   \u001b[0m copying thinc/layers/swish.py -> build/lib.macosx-11.1-arm64-cpython-312/thinc/layers\n",
      "  \u001b[31m   \u001b[0m   \u001b[31m   \u001b[0m copying thinc/layers/with_signpost_interval.py -> build/lib.macosx-11.1-arm64-cpython-312/thinc/layers\n",
      "  \u001b[31m   \u001b[0m   \u001b[31m   \u001b[0m copying thinc/layers/ragged2list.py -> build/lib.macosx-11.1-arm64-cpython-312/thinc/layers\n",
      "  \u001b[31m   \u001b[0m   \u001b[31m   \u001b[0m copying thinc/layers/tuplify.py -> build/lib.macosx-11.1-arm64-cpython-312/thinc/layers\n",
      "  \u001b[31m   \u001b[0m   \u001b[31m   \u001b[0m copying thinc/layers/with_ragged.py -> build/lib.macosx-11.1-arm64-cpython-312/thinc/layers\n",
      "  \u001b[31m   \u001b[0m   \u001b[31m   \u001b[0m copying thinc/layers/list2ragged.py -> build/lib.macosx-11.1-arm64-cpython-312/thinc/layers\n",
      "  \u001b[31m   \u001b[0m   \u001b[31m   \u001b[0m copying thinc/layers/map_list.py -> build/lib.macosx-11.1-arm64-cpython-312/thinc/layers\n",
      "  \u001b[31m   \u001b[0m   \u001b[31m   \u001b[0m copying thinc/layers/dropout.py -> build/lib.macosx-11.1-arm64-cpython-312/thinc/layers\n",
      "  \u001b[31m   \u001b[0m   \u001b[31m   \u001b[0m copying thinc/layers/reduce_last.py -> build/lib.macosx-11.1-arm64-cpython-312/thinc/layers\n",
      "  \u001b[31m   \u001b[0m   \u001b[31m   \u001b[0m copying thinc/layers/list2array.py -> build/lib.macosx-11.1-arm64-cpython-312/thinc/layers\n",
      "  \u001b[31m   \u001b[0m   \u001b[31m   \u001b[0m copying thinc/layers/with_list.py -> build/lib.macosx-11.1-arm64-cpython-312/thinc/layers\n",
      "  \u001b[31m   \u001b[0m   \u001b[31m   \u001b[0m copying thinc/layers/lstm.py -> build/lib.macosx-11.1-arm64-cpython-312/thinc/layers\n",
      "  \u001b[31m   \u001b[0m   \u001b[31m   \u001b[0m copying thinc/layers/reduce_max.py -> build/lib.macosx-11.1-arm64-cpython-312/thinc/layers\n",
      "  \u001b[31m   \u001b[0m   \u001b[31m   \u001b[0m copying thinc/layers/with_flatten.py -> build/lib.macosx-11.1-arm64-cpython-312/thinc/layers\n",
      "  \u001b[31m   \u001b[0m   \u001b[31m   \u001b[0m copying thinc/layers/resizable.py -> build/lib.macosx-11.1-arm64-cpython-312/thinc/layers\n",
      "  \u001b[31m   \u001b[0m   \u001b[31m   \u001b[0m copying thinc/layers/sigmoid.py -> build/lib.macosx-11.1-arm64-cpython-312/thinc/layers\n",
      "  \u001b[31m   \u001b[0m   \u001b[31m   \u001b[0m copying thinc/layers/multisoftmax.py -> build/lib.macosx-11.1-arm64-cpython-312/thinc/layers\n",
      "  \u001b[31m   \u001b[0m   \u001b[31m   \u001b[0m copying thinc/layers/softmax.py -> build/lib.macosx-11.1-arm64-cpython-312/thinc/layers\n",
      "  \u001b[31m   \u001b[0m   \u001b[31m   \u001b[0m copying thinc/layers/reduce_mean.py -> build/lib.macosx-11.1-arm64-cpython-312/thinc/layers\n",
      "  \u001b[31m   \u001b[0m   \u001b[31m   \u001b[0m copying thinc/layers/array_getitem.py -> build/lib.macosx-11.1-arm64-cpython-312/thinc/layers\n",
      "  \u001b[31m   \u001b[0m   \u001b[31m   \u001b[0m copying thinc/layers/dish.py -> build/lib.macosx-11.1-arm64-cpython-312/thinc/layers\n",
      "  \u001b[31m   \u001b[0m   \u001b[31m   \u001b[0m copying thinc/layers/parametricattention.py -> build/lib.macosx-11.1-arm64-cpython-312/thinc/layers\n",
      "  \u001b[31m   \u001b[0m   \u001b[31m   \u001b[0m copying thinc/layers/clone.py -> build/lib.macosx-11.1-arm64-cpython-312/thinc/layers\n",
      "  \u001b[31m   \u001b[0m   \u001b[31m   \u001b[0m creating build/lib.macosx-11.1-arm64-cpython-312/thinc/backends\n",
      "  \u001b[31m   \u001b[0m   \u001b[31m   \u001b[0m copying thinc/backends/mps_ops.py -> build/lib.macosx-11.1-arm64-cpython-312/thinc/backends\n",
      "  \u001b[31m   \u001b[0m   \u001b[31m   \u001b[0m copying thinc/backends/__init__.py -> build/lib.macosx-11.1-arm64-cpython-312/thinc/backends\n",
      "  \u001b[31m   \u001b[0m   \u001b[31m   \u001b[0m copying thinc/backends/_param_server.py -> build/lib.macosx-11.1-arm64-cpython-312/thinc/backends\n",
      "  \u001b[31m   \u001b[0m   \u001b[31m   \u001b[0m copying thinc/backends/cupy_ops.py -> build/lib.macosx-11.1-arm64-cpython-312/thinc/backends\n",
      "  \u001b[31m   \u001b[0m   \u001b[31m   \u001b[0m copying thinc/backends/_custom_kernels.py -> build/lib.macosx-11.1-arm64-cpython-312/thinc/backends\n",
      "  \u001b[31m   \u001b[0m   \u001b[31m   \u001b[0m copying thinc/backends/ops.py -> build/lib.macosx-11.1-arm64-cpython-312/thinc/backends\n",
      "  \u001b[31m   \u001b[0m   \u001b[31m   \u001b[0m copying thinc/backends/_cupy_allocators.py -> build/lib.macosx-11.1-arm64-cpython-312/thinc/backends\n",
      "  \u001b[31m   \u001b[0m   \u001b[31m   \u001b[0m creating build/lib.macosx-11.1-arm64-cpython-312/thinc/tests\n",
      "  \u001b[31m   \u001b[0m   \u001b[31m   \u001b[0m copying thinc/tests/conftest.py -> build/lib.macosx-11.1-arm64-cpython-312/thinc/tests\n",
      "  \u001b[31m   \u001b[0m   \u001b[31m   \u001b[0m copying thinc/tests/strategies.py -> build/lib.macosx-11.1-arm64-cpython-312/thinc/tests\n",
      "  \u001b[31m   \u001b[0m   \u001b[31m   \u001b[0m copying thinc/tests/test_schedules.py -> build/lib.macosx-11.1-arm64-cpython-312/thinc/tests\n",
      "  \u001b[31m   \u001b[0m   \u001b[31m   \u001b[0m copying thinc/tests/util.py -> build/lib.macosx-11.1-arm64-cpython-312/thinc/tests\n",
      "  \u001b[31m   \u001b[0m   \u001b[31m   \u001b[0m copying thinc/tests/test_initializers.py -> build/lib.macosx-11.1-arm64-cpython-312/thinc/tests\n",
      "  \u001b[31m   \u001b[0m   \u001b[31m   \u001b[0m copying thinc/tests/test_optimizers.py -> build/lib.macosx-11.1-arm64-cpython-312/thinc/tests\n",
      "  \u001b[31m   \u001b[0m   \u001b[31m   \u001b[0m copying thinc/tests/__init__.py -> build/lib.macosx-11.1-arm64-cpython-312/thinc/tests\n",
      "  \u001b[31m   \u001b[0m   \u001b[31m   \u001b[0m copying thinc/tests/test_util.py -> build/lib.macosx-11.1-arm64-cpython-312/thinc/tests\n",
      "  \u001b[31m   \u001b[0m   \u001b[31m   \u001b[0m copying thinc/tests/test_indexing.py -> build/lib.macosx-11.1-arm64-cpython-312/thinc/tests\n",
      "  \u001b[31m   \u001b[0m   \u001b[31m   \u001b[0m copying thinc/tests/test_config.py -> build/lib.macosx-11.1-arm64-cpython-312/thinc/tests\n",
      "  \u001b[31m   \u001b[0m   \u001b[31m   \u001b[0m copying thinc/tests/test_serialize.py -> build/lib.macosx-11.1-arm64-cpython-312/thinc/tests\n",
      "  \u001b[31m   \u001b[0m   \u001b[31m   \u001b[0m copying thinc/tests/test_loss.py -> build/lib.macosx-11.1-arm64-cpython-312/thinc/tests\n",
      "  \u001b[31m   \u001b[0m   \u001b[31m   \u001b[0m copying thinc/tests/test_import__all__.py -> build/lib.macosx-11.1-arm64-cpython-312/thinc/tests\n",
      "  \u001b[31m   \u001b[0m   \u001b[31m   \u001b[0m copying thinc/tests/test_examples.py -> build/lib.macosx-11.1-arm64-cpython-312/thinc/tests\n",
      "  \u001b[31m   \u001b[0m   \u001b[31m   \u001b[0m copying thinc/tests/test_types.py -> build/lib.macosx-11.1-arm64-cpython-312/thinc/tests\n",
      "  \u001b[31m   \u001b[0m   \u001b[31m   \u001b[0m creating build/lib.macosx-11.1-arm64-cpython-312/thinc/extra\n",
      "  \u001b[31m   \u001b[0m   \u001b[31m   \u001b[0m copying thinc/extra/__init__.py -> build/lib.macosx-11.1-arm64-cpython-312/thinc/extra\n",
      "  \u001b[31m   \u001b[0m   \u001b[31m   \u001b[0m creating build/lib.macosx-11.1-arm64-cpython-312/thinc/shims\n",
      "  \u001b[31m   \u001b[0m   \u001b[31m   \u001b[0m copying thinc/shims/mxnet.py -> build/lib.macosx-11.1-arm64-cpython-312/thinc/shims\n",
      "  \u001b[31m   \u001b[0m   \u001b[31m   \u001b[0m copying thinc/shims/__init__.py -> build/lib.macosx-11.1-arm64-cpython-312/thinc/shims\n",
      "  \u001b[31m   \u001b[0m   \u001b[31m   \u001b[0m copying thinc/shims/tensorflow.py -> build/lib.macosx-11.1-arm64-cpython-312/thinc/shims\n",
      "  \u001b[31m   \u001b[0m   \u001b[31m   \u001b[0m copying thinc/shims/pytorch.py -> build/lib.macosx-11.1-arm64-cpython-312/thinc/shims\n",
      "  \u001b[31m   \u001b[0m   \u001b[31m   \u001b[0m copying thinc/shims/torchscript.py -> build/lib.macosx-11.1-arm64-cpython-312/thinc/shims\n",
      "  \u001b[31m   \u001b[0m   \u001b[31m   \u001b[0m copying thinc/shims/pytorch_grad_scaler.py -> build/lib.macosx-11.1-arm64-cpython-312/thinc/shims\n",
      "  \u001b[31m   \u001b[0m   \u001b[31m   \u001b[0m copying thinc/shims/shim.py -> build/lib.macosx-11.1-arm64-cpython-312/thinc/shims\n",
      "  \u001b[31m   \u001b[0m   \u001b[31m   \u001b[0m creating build/lib.macosx-11.1-arm64-cpython-312/thinc/tests/layers\n",
      "  \u001b[31m   \u001b[0m   \u001b[31m   \u001b[0m copying thinc/tests/layers/test_with_flatten.py -> build/lib.macosx-11.1-arm64-cpython-312/thinc/tests/layers\n",
      "  \u001b[31m   \u001b[0m   \u001b[31m   \u001b[0m copying thinc/tests/layers/test_hash_embed.py -> build/lib.macosx-11.1-arm64-cpython-312/thinc/tests/layers\n",
      "  \u001b[31m   \u001b[0m   \u001b[31m   \u001b[0m copying thinc/tests/layers/test_layers_api.py -> build/lib.macosx-11.1-arm64-cpython-312/thinc/tests/layers\n",
      "  \u001b[31m   \u001b[0m   \u001b[31m   \u001b[0m copying thinc/tests/layers/test_with_transforms.py -> build/lib.macosx-11.1-arm64-cpython-312/thinc/tests/layers\n",
      "  \u001b[31m   \u001b[0m   \u001b[31m   \u001b[0m copying thinc/tests/layers/test_sparse_linear.py -> build/lib.macosx-11.1-arm64-cpython-312/thinc/tests/layers\n",
      "  \u001b[31m   \u001b[0m   \u001b[31m   \u001b[0m copying thinc/tests/layers/test_uniqued.py -> build/lib.macosx-11.1-arm64-cpython-312/thinc/tests/layers\n",
      "  \u001b[31m   \u001b[0m   \u001b[31m   \u001b[0m copying thinc/tests/layers/test_combinators.py -> build/lib.macosx-11.1-arm64-cpython-312/thinc/tests/layers\n",
      "  \u001b[31m   \u001b[0m   \u001b[31m   \u001b[0m copying thinc/tests/layers/test_tensorflow_wrapper.py -> build/lib.macosx-11.1-arm64-cpython-312/thinc/tests/layers\n",
      "  \u001b[31m   \u001b[0m   \u001b[31m   \u001b[0m copying thinc/tests/layers/__init__.py -> build/lib.macosx-11.1-arm64-cpython-312/thinc/tests/layers\n",
      "  \u001b[31m   \u001b[0m   \u001b[31m   \u001b[0m copying thinc/tests/layers/test_resizable.py -> build/lib.macosx-11.1-arm64-cpython-312/thinc/tests/layers\n",
      "  \u001b[31m   \u001b[0m   \u001b[31m   \u001b[0m copying thinc/tests/layers/test_mnist.py -> build/lib.macosx-11.1-arm64-cpython-312/thinc/tests/layers\n",
      "  \u001b[31m   \u001b[0m   \u001b[31m   \u001b[0m copying thinc/tests/layers/test_feed_forward.py -> build/lib.macosx-11.1-arm64-cpython-312/thinc/tests/layers\n",
      "  \u001b[31m   \u001b[0m   \u001b[31m   \u001b[0m copying thinc/tests/layers/test_torchscriptwrapper.py -> build/lib.macosx-11.1-arm64-cpython-312/thinc/tests/layers\n",
      "  \u001b[31m   \u001b[0m   \u001b[31m   \u001b[0m copying thinc/tests/layers/test_reduce.py -> build/lib.macosx-11.1-arm64-cpython-312/thinc/tests/layers\n",
      "  \u001b[31m   \u001b[0m   \u001b[31m   \u001b[0m copying thinc/tests/layers/test_mappers.py -> build/lib.macosx-11.1-arm64-cpython-312/thinc/tests/layers\n",
      "  \u001b[31m   \u001b[0m   \u001b[31m   \u001b[0m copying thinc/tests/layers/test_transforms.py -> build/lib.macosx-11.1-arm64-cpython-312/thinc/tests/layers\n",
      "  \u001b[31m   \u001b[0m   \u001b[31m   \u001b[0m copying thinc/tests/layers/test_linear.py -> build/lib.macosx-11.1-arm64-cpython-312/thinc/tests/layers\n",
      "  \u001b[31m   \u001b[0m   \u001b[31m   \u001b[0m copying thinc/tests/layers/test_softmax.py -> build/lib.macosx-11.1-arm64-cpython-312/thinc/tests/layers\n",
      "  \u001b[31m   \u001b[0m   \u001b[31m   \u001b[0m copying thinc/tests/layers/test_pytorch_wrapper.py -> build/lib.macosx-11.1-arm64-cpython-312/thinc/tests/layers\n",
      "  \u001b[31m   \u001b[0m   \u001b[31m   \u001b[0m copying thinc/tests/layers/test_with_debug.py -> build/lib.macosx-11.1-arm64-cpython-312/thinc/tests/layers\n",
      "  \u001b[31m   \u001b[0m   \u001b[31m   \u001b[0m copying thinc/tests/layers/test_mxnet_wrapper.py -> build/lib.macosx-11.1-arm64-cpython-312/thinc/tests/layers\n",
      "  \u001b[31m   \u001b[0m   \u001b[31m   \u001b[0m copying thinc/tests/layers/test_shim.py -> build/lib.macosx-11.1-arm64-cpython-312/thinc/tests/layers\n",
      "  \u001b[31m   \u001b[0m   \u001b[31m   \u001b[0m copying thinc/tests/layers/test_lstm.py -> build/lib.macosx-11.1-arm64-cpython-312/thinc/tests/layers\n",
      "  \u001b[31m   \u001b[0m   \u001b[31m   \u001b[0m copying thinc/tests/layers/test_basic_tagger.py -> build/lib.macosx-11.1-arm64-cpython-312/thinc/tests/layers\n",
      "  \u001b[31m   \u001b[0m   \u001b[31m   \u001b[0m creating build/lib.macosx-11.1-arm64-cpython-312/thinc/tests/backends\n",
      "  \u001b[31m   \u001b[0m   \u001b[31m   \u001b[0m copying thinc/tests/backends/__init__.py -> build/lib.macosx-11.1-arm64-cpython-312/thinc/tests/backends\n",
      "  \u001b[31m   \u001b[0m   \u001b[31m   \u001b[0m copying thinc/tests/backends/test_ops.py -> build/lib.macosx-11.1-arm64-cpython-312/thinc/tests/backends\n",
      "  \u001b[31m   \u001b[0m   \u001b[31m   \u001b[0m copying thinc/tests/backends/test_mem.py -> build/lib.macosx-11.1-arm64-cpython-312/thinc/tests/backends\n",
      "  \u001b[31m   \u001b[0m   \u001b[31m   \u001b[0m creating build/lib.macosx-11.1-arm64-cpython-312/thinc/tests/extra\n",
      "  \u001b[31m   \u001b[0m   \u001b[31m   \u001b[0m copying thinc/tests/extra/test_beam_search.py -> build/lib.macosx-11.1-arm64-cpython-312/thinc/tests/extra\n",
      "  \u001b[31m   \u001b[0m   \u001b[31m   \u001b[0m copying thinc/tests/extra/__init__.py -> build/lib.macosx-11.1-arm64-cpython-312/thinc/tests/extra\n",
      "  \u001b[31m   \u001b[0m   \u001b[31m   \u001b[0m creating build/lib.macosx-11.1-arm64-cpython-312/thinc/tests/shims\n",
      "  \u001b[31m   \u001b[0m   \u001b[31m   \u001b[0m copying thinc/tests/shims/__init__.py -> build/lib.macosx-11.1-arm64-cpython-312/thinc/tests/shims\n",
      "  \u001b[31m   \u001b[0m   \u001b[31m   \u001b[0m copying thinc/tests/shims/test_pytorch_grad_scaler.py -> build/lib.macosx-11.1-arm64-cpython-312/thinc/tests/shims\n",
      "  \u001b[31m   \u001b[0m   \u001b[31m   \u001b[0m creating build/lib.macosx-11.1-arm64-cpython-312/thinc/tests/mypy\n",
      "  \u001b[31m   \u001b[0m   \u001b[31m   \u001b[0m copying thinc/tests/mypy/test_mypy.py -> build/lib.macosx-11.1-arm64-cpython-312/thinc/tests/mypy\n",
      "  \u001b[31m   \u001b[0m   \u001b[31m   \u001b[0m copying thinc/tests/mypy/__init__.py -> build/lib.macosx-11.1-arm64-cpython-312/thinc/tests/mypy\n",
      "  \u001b[31m   \u001b[0m   \u001b[31m   \u001b[0m creating build/lib.macosx-11.1-arm64-cpython-312/thinc/tests/model\n",
      "  \u001b[31m   \u001b[0m   \u001b[31m   \u001b[0m copying thinc/tests/model/test_model.py -> build/lib.macosx-11.1-arm64-cpython-312/thinc/tests/model\n",
      "  \u001b[31m   \u001b[0m   \u001b[31m   \u001b[0m copying thinc/tests/model/test_validation.py -> build/lib.macosx-11.1-arm64-cpython-312/thinc/tests/model\n",
      "  \u001b[31m   \u001b[0m   \u001b[31m   \u001b[0m copying thinc/tests/model/__init__.py -> build/lib.macosx-11.1-arm64-cpython-312/thinc/tests/model\n",
      "  \u001b[31m   \u001b[0m   \u001b[31m   \u001b[0m creating build/lib.macosx-11.1-arm64-cpython-312/thinc/tests/regression\n",
      "  \u001b[31m   \u001b[0m   \u001b[31m   \u001b[0m copying thinc/tests/regression/__init__.py -> build/lib.macosx-11.1-arm64-cpython-312/thinc/tests/regression\n",
      "  \u001b[31m   \u001b[0m   \u001b[31m   \u001b[0m copying thinc/tests/regression/test_issue208.py -> build/lib.macosx-11.1-arm64-cpython-312/thinc/tests/regression\n",
      "  \u001b[31m   \u001b[0m   \u001b[31m   \u001b[0m copying thinc/tests/regression/test_issue564.py -> build/lib.macosx-11.1-arm64-cpython-312/thinc/tests/regression\n",
      "  \u001b[31m   \u001b[0m   \u001b[31m   \u001b[0m creating build/lib.macosx-11.1-arm64-cpython-312/thinc/tests/mypy/modules\n",
      "  \u001b[31m   \u001b[0m   \u001b[31m   \u001b[0m copying thinc/tests/mypy/modules/fail_no_plugin.py -> build/lib.macosx-11.1-arm64-cpython-312/thinc/tests/mypy/modules\n",
      "  \u001b[31m   \u001b[0m   \u001b[31m   \u001b[0m copying thinc/tests/mypy/modules/success_no_plugin.py -> build/lib.macosx-11.1-arm64-cpython-312/thinc/tests/mypy/modules\n",
      "  \u001b[31m   \u001b[0m   \u001b[31m   \u001b[0m copying thinc/tests/mypy/modules/fail_plugin.py -> build/lib.macosx-11.1-arm64-cpython-312/thinc/tests/mypy/modules\n",
      "  \u001b[31m   \u001b[0m   \u001b[31m   \u001b[0m copying thinc/tests/mypy/modules/__init__.py -> build/lib.macosx-11.1-arm64-cpython-312/thinc/tests/mypy/modules\n",
      "  \u001b[31m   \u001b[0m   \u001b[31m   \u001b[0m copying thinc/tests/mypy/modules/success_plugin.py -> build/lib.macosx-11.1-arm64-cpython-312/thinc/tests/mypy/modules\n",
      "  \u001b[31m   \u001b[0m   \u001b[31m   \u001b[0m creating build/lib.macosx-11.1-arm64-cpython-312/thinc/tests/regression/issue519\n",
      "  \u001b[31m   \u001b[0m   \u001b[31m   \u001b[0m copying thinc/tests/regression/issue519/test_issue519.py -> build/lib.macosx-11.1-arm64-cpython-312/thinc/tests/regression/issue519\n",
      "  \u001b[31m   \u001b[0m   \u001b[31m   \u001b[0m copying thinc/tests/regression/issue519/__init__.py -> build/lib.macosx-11.1-arm64-cpython-312/thinc/tests/regression/issue519\n",
      "  \u001b[31m   \u001b[0m   \u001b[31m   \u001b[0m copying thinc/tests/regression/issue519/program.py -> build/lib.macosx-11.1-arm64-cpython-312/thinc/tests/regression/issue519\n",
      "  \u001b[31m   \u001b[0m   \u001b[31m   \u001b[0m creating build/lib.macosx-11.1-arm64-cpython-312/thinc/extra/tests\n",
      "  \u001b[31m   \u001b[0m   \u001b[31m   \u001b[0m copying thinc/extra/tests/__init__.py -> build/lib.macosx-11.1-arm64-cpython-312/thinc/extra/tests\n",
      "  \u001b[31m   \u001b[0m   \u001b[31m   \u001b[0m running egg_info\n",
      "  \u001b[31m   \u001b[0m   \u001b[31m   \u001b[0m writing thinc.egg-info/PKG-INFO\n",
      "  \u001b[31m   \u001b[0m   \u001b[31m   \u001b[0m writing dependency_links to thinc.egg-info/dependency_links.txt\n",
      "  \u001b[31m   \u001b[0m   \u001b[31m   \u001b[0m writing entry points to thinc.egg-info/entry_points.txt\n",
      "  \u001b[31m   \u001b[0m   \u001b[31m   \u001b[0m writing requirements to thinc.egg-info/requires.txt\n",
      "  \u001b[31m   \u001b[0m   \u001b[31m   \u001b[0m writing top-level names to thinc.egg-info/top_level.txt\n",
      "  \u001b[31m   \u001b[0m   \u001b[31m   \u001b[0m dependency /opt/anaconda3/include/python3.12/Python.h won't be automatically included in the manifest: the path must be relative\n",
      "  \u001b[31m   \u001b[0m   \u001b[31m   \u001b[0m dependency /private/var/folders/pg/jb8x93712rx_j030xp_lp3_m0000gn/T/pip-build-env-y9af5ra4/overlay/lib/python3.12/site-packages/numpy/_core/include/numpy/arrayobject.h won't be automatically included in the manifest: the path must be relative\n",
      "  \u001b[31m   \u001b[0m   \u001b[31m   \u001b[0m dependency /private/var/folders/pg/jb8x93712rx_j030xp_lp3_m0000gn/T/pip-build-env-y9af5ra4/overlay/lib/python3.12/site-packages/numpy/_core/include/numpy/arrayscalars.h won't be automatically included in the manifest: the path must be relative\n",
      "  \u001b[31m   \u001b[0m   \u001b[31m   \u001b[0m dependency /private/var/folders/pg/jb8x93712rx_j030xp_lp3_m0000gn/T/pip-build-env-y9af5ra4/overlay/lib/python3.12/site-packages/numpy/_core/include/numpy/ndarrayobject.h won't be automatically included in the manifest: the path must be relative\n",
      "  \u001b[31m   \u001b[0m   \u001b[31m   \u001b[0m dependency /private/var/folders/pg/jb8x93712rx_j030xp_lp3_m0000gn/T/pip-build-env-y9af5ra4/overlay/lib/python3.12/site-packages/numpy/_core/include/numpy/ndarraytypes.h won't be automatically included in the manifest: the path must be relative\n",
      "  \u001b[31m   \u001b[0m   \u001b[31m   \u001b[0m dependency /private/var/folders/pg/jb8x93712rx_j030xp_lp3_m0000gn/T/pip-build-env-y9af5ra4/overlay/lib/python3.12/site-packages/numpy/_core/include/numpy/ufuncobject.h won't be automatically included in the manifest: the path must be relative\n",
      "  \u001b[31m   \u001b[0m   \u001b[31m   \u001b[0m dependency /opt/anaconda3/include/python3.12/Python.h won't be automatically included in the manifest: the path must be relative\n",
      "  \u001b[31m   \u001b[0m   \u001b[31m   \u001b[0m dependency /private/var/folders/pg/jb8x93712rx_j030xp_lp3_m0000gn/T/pip-build-env-y9af5ra4/overlay/lib/python3.12/site-packages/numpy/_core/include/numpy/arrayobject.h won't be automatically included in the manifest: the path must be relative\n",
      "  \u001b[31m   \u001b[0m   \u001b[31m   \u001b[0m dependency /private/var/folders/pg/jb8x93712rx_j030xp_lp3_m0000gn/T/pip-build-env-y9af5ra4/overlay/lib/python3.12/site-packages/numpy/_core/include/numpy/arrayscalars.h won't be automatically included in the manifest: the path must be relative\n",
      "  \u001b[31m   \u001b[0m   \u001b[31m   \u001b[0m dependency /private/var/folders/pg/jb8x93712rx_j030xp_lp3_m0000gn/T/pip-build-env-y9af5ra4/overlay/lib/python3.12/site-packages/numpy/_core/include/numpy/ndarrayobject.h won't be automatically included in the manifest: the path must be relative\n",
      "  \u001b[31m   \u001b[0m   \u001b[31m   \u001b[0m dependency /private/var/folders/pg/jb8x93712rx_j030xp_lp3_m0000gn/T/pip-build-env-y9af5ra4/overlay/lib/python3.12/site-packages/numpy/_core/include/numpy/ndarraytypes.h won't be automatically included in the manifest: the path must be relative\n",
      "  \u001b[31m   \u001b[0m   \u001b[31m   \u001b[0m dependency /private/var/folders/pg/jb8x93712rx_j030xp_lp3_m0000gn/T/pip-build-env-y9af5ra4/overlay/lib/python3.12/site-packages/numpy/_core/include/numpy/ufuncobject.h won't be automatically included in the manifest: the path must be relative\n",
      "  \u001b[31m   \u001b[0m   \u001b[31m   \u001b[0m reading manifest file 'thinc.egg-info/SOURCES.txt'\n",
      "  \u001b[31m   \u001b[0m   \u001b[31m   \u001b[0m reading manifest template 'MANIFEST.in'\n",
      "  \u001b[31m   \u001b[0m   \u001b[31m   \u001b[0m no previously-included directories found matching 'tmp'\n",
      "  \u001b[31m   \u001b[0m   \u001b[31m   \u001b[0m adding license file 'LICENSE'\n",
      "  \u001b[31m   \u001b[0m   \u001b[31m   \u001b[0m writing manifest file 'thinc.egg-info/SOURCES.txt'\n",
      "  \u001b[31m   \u001b[0m   \u001b[31m   \u001b[0m /private/var/folders/pg/jb8x93712rx_j030xp_lp3_m0000gn/T/pip-build-env-y9af5ra4/overlay/lib/python3.12/site-packages/setuptools/command/build_py.py:212: _Warning: Package 'thinc.tests.mypy.configs' is absent from the `packages` configuration.\n",
      "  \u001b[31m   \u001b[0m   \u001b[31m   \u001b[0m !!\n",
      "  \u001b[31m   \u001b[0m   \u001b[31m   \u001b[0m\n",
      "  \u001b[31m   \u001b[0m   \u001b[31m   \u001b[0m         ********************************************************************************\n",
      "  \u001b[31m   \u001b[0m   \u001b[31m   \u001b[0m         ############################\n",
      "  \u001b[31m   \u001b[0m   \u001b[31m   \u001b[0m         # Package would be ignored #\n",
      "  \u001b[31m   \u001b[0m   \u001b[31m   \u001b[0m         ############################\n",
      "  \u001b[31m   \u001b[0m   \u001b[31m   \u001b[0m         Python recognizes 'thinc.tests.mypy.configs' as an importable package[^1],\n",
      "  \u001b[31m   \u001b[0m   \u001b[31m   \u001b[0m         but it is absent from setuptools' `packages` configuration.\n",
      "  \u001b[31m   \u001b[0m   \u001b[31m   \u001b[0m\n",
      "  \u001b[31m   \u001b[0m   \u001b[31m   \u001b[0m         This leads to an ambiguous overall configuration. If you want to distribute this\n",
      "  \u001b[31m   \u001b[0m   \u001b[31m   \u001b[0m         package, please make sure that 'thinc.tests.mypy.configs' is explicitly added\n",
      "  \u001b[31m   \u001b[0m   \u001b[31m   \u001b[0m         to the `packages` configuration field.\n",
      "  \u001b[31m   \u001b[0m   \u001b[31m   \u001b[0m\n",
      "  \u001b[31m   \u001b[0m   \u001b[31m   \u001b[0m         Alternatively, you can also rely on setuptools' discovery methods\n",
      "  \u001b[31m   \u001b[0m   \u001b[31m   \u001b[0m         (for example by using `find_namespace_packages(...)`/`find_namespace:`\n",
      "  \u001b[31m   \u001b[0m   \u001b[31m   \u001b[0m         instead of `find_packages(...)`/`find:`).\n",
      "  \u001b[31m   \u001b[0m   \u001b[31m   \u001b[0m\n",
      "  \u001b[31m   \u001b[0m   \u001b[31m   \u001b[0m         You can read more about \"package discovery\" on setuptools documentation page:\n",
      "  \u001b[31m   \u001b[0m   \u001b[31m   \u001b[0m\n",
      "  \u001b[31m   \u001b[0m   \u001b[31m   \u001b[0m         - https://setuptools.pypa.io/en/latest/userguide/package_discovery.html\n",
      "  \u001b[31m   \u001b[0m   \u001b[31m   \u001b[0m\n",
      "  \u001b[31m   \u001b[0m   \u001b[31m   \u001b[0m         If you don't want 'thinc.tests.mypy.configs' to be distributed and are\n",
      "  \u001b[31m   \u001b[0m   \u001b[31m   \u001b[0m         already explicitly excluding 'thinc.tests.mypy.configs' via\n",
      "  \u001b[31m   \u001b[0m   \u001b[31m   \u001b[0m         `find_namespace_packages(...)/find_namespace` or `find_packages(...)/find`,\n",
      "  \u001b[31m   \u001b[0m   \u001b[31m   \u001b[0m         you can try to use `exclude_package_data`, or `include-package-data=False` in\n",
      "  \u001b[31m   \u001b[0m   \u001b[31m   \u001b[0m         combination with a more fine grained `package-data` configuration.\n",
      "  \u001b[31m   \u001b[0m   \u001b[31m   \u001b[0m\n",
      "  \u001b[31m   \u001b[0m   \u001b[31m   \u001b[0m         You can read more about \"package data files\" on setuptools documentation page:\n",
      "  \u001b[31m   \u001b[0m   \u001b[31m   \u001b[0m\n",
      "  \u001b[31m   \u001b[0m   \u001b[31m   \u001b[0m         - https://setuptools.pypa.io/en/latest/userguide/datafiles.html\n",
      "  \u001b[31m   \u001b[0m   \u001b[31m   \u001b[0m\n",
      "  \u001b[31m   \u001b[0m   \u001b[31m   \u001b[0m\n",
      "  \u001b[31m   \u001b[0m   \u001b[31m   \u001b[0m         [^1]: For Python, any directory (with suitable naming) can be imported,\n",
      "  \u001b[31m   \u001b[0m   \u001b[31m   \u001b[0m               even if it does not contain any `.py` files.\n",
      "  \u001b[31m   \u001b[0m   \u001b[31m   \u001b[0m               On the other hand, currently there is no concept of package data\n",
      "  \u001b[31m   \u001b[0m   \u001b[31m   \u001b[0m               directory, all directories are treated like packages.\n",
      "  \u001b[31m   \u001b[0m   \u001b[31m   \u001b[0m         ********************************************************************************\n",
      "  \u001b[31m   \u001b[0m   \u001b[31m   \u001b[0m\n",
      "  \u001b[31m   \u001b[0m   \u001b[31m   \u001b[0m !!\n",
      "  \u001b[31m   \u001b[0m   \u001b[31m   \u001b[0m   check.warn(importable)\n",
      "  \u001b[31m   \u001b[0m   \u001b[31m   \u001b[0m /private/var/folders/pg/jb8x93712rx_j030xp_lp3_m0000gn/T/pip-build-env-y9af5ra4/overlay/lib/python3.12/site-packages/setuptools/command/build_py.py:212: _Warning: Package 'thinc.tests.mypy.outputs' is absent from the `packages` configuration.\n",
      "  \u001b[31m   \u001b[0m   \u001b[31m   \u001b[0m !!\n",
      "  \u001b[31m   \u001b[0m   \u001b[31m   \u001b[0m\n",
      "  \u001b[31m   \u001b[0m   \u001b[31m   \u001b[0m         ********************************************************************************\n",
      "  \u001b[31m   \u001b[0m   \u001b[31m   \u001b[0m         ############################\n",
      "  \u001b[31m   \u001b[0m   \u001b[31m   \u001b[0m         # Package would be ignored #\n",
      "  \u001b[31m   \u001b[0m   \u001b[31m   \u001b[0m         ############################\n",
      "  \u001b[31m   \u001b[0m   \u001b[31m   \u001b[0m         Python recognizes 'thinc.tests.mypy.outputs' as an importable package[^1],\n",
      "  \u001b[31m   \u001b[0m   \u001b[31m   \u001b[0m         but it is absent from setuptools' `packages` configuration.\n",
      "  \u001b[31m   \u001b[0m   \u001b[31m   \u001b[0m\n",
      "  \u001b[31m   \u001b[0m   \u001b[31m   \u001b[0m         This leads to an ambiguous overall configuration. If you want to distribute this\n",
      "  \u001b[31m   \u001b[0m   \u001b[31m   \u001b[0m         package, please make sure that 'thinc.tests.mypy.outputs' is explicitly added\n",
      "  \u001b[31m   \u001b[0m   \u001b[31m   \u001b[0m         to the `packages` configuration field.\n",
      "  \u001b[31m   \u001b[0m   \u001b[31m   \u001b[0m\n",
      "  \u001b[31m   \u001b[0m   \u001b[31m   \u001b[0m         Alternatively, you can also rely on setuptools' discovery methods\n",
      "  \u001b[31m   \u001b[0m   \u001b[31m   \u001b[0m         (for example by using `find_namespace_packages(...)`/`find_namespace:`\n",
      "  \u001b[31m   \u001b[0m   \u001b[31m   \u001b[0m         instead of `find_packages(...)`/`find:`).\n",
      "  \u001b[31m   \u001b[0m   \u001b[31m   \u001b[0m\n",
      "  \u001b[31m   \u001b[0m   \u001b[31m   \u001b[0m         You can read more about \"package discovery\" on setuptools documentation page:\n",
      "  \u001b[31m   \u001b[0m   \u001b[31m   \u001b[0m\n",
      "  \u001b[31m   \u001b[0m   \u001b[31m   \u001b[0m         - https://setuptools.pypa.io/en/latest/userguide/package_discovery.html\n",
      "  \u001b[31m   \u001b[0m   \u001b[31m   \u001b[0m\n",
      "  \u001b[31m   \u001b[0m   \u001b[31m   \u001b[0m         If you don't want 'thinc.tests.mypy.outputs' to be distributed and are\n",
      "  \u001b[31m   \u001b[0m   \u001b[31m   \u001b[0m         already explicitly excluding 'thinc.tests.mypy.outputs' via\n",
      "  \u001b[31m   \u001b[0m   \u001b[31m   \u001b[0m         `find_namespace_packages(...)/find_namespace` or `find_packages(...)/find`,\n",
      "  \u001b[31m   \u001b[0m   \u001b[31m   \u001b[0m         you can try to use `exclude_package_data`, or `include-package-data=False` in\n",
      "  \u001b[31m   \u001b[0m   \u001b[31m   \u001b[0m         combination with a more fine grained `package-data` configuration.\n",
      "  \u001b[31m   \u001b[0m   \u001b[31m   \u001b[0m\n",
      "  \u001b[31m   \u001b[0m   \u001b[31m   \u001b[0m         You can read more about \"package data files\" on setuptools documentation page:\n",
      "  \u001b[31m   \u001b[0m   \u001b[31m   \u001b[0m\n",
      "  \u001b[31m   \u001b[0m   \u001b[31m   \u001b[0m         - https://setuptools.pypa.io/en/latest/userguide/datafiles.html\n",
      "  \u001b[31m   \u001b[0m   \u001b[31m   \u001b[0m\n",
      "  \u001b[31m   \u001b[0m   \u001b[31m   \u001b[0m\n",
      "  \u001b[31m   \u001b[0m   \u001b[31m   \u001b[0m         [^1]: For Python, any directory (with suitable naming) can be imported,\n",
      "  \u001b[31m   \u001b[0m   \u001b[31m   \u001b[0m               even if it does not contain any `.py` files.\n",
      "  \u001b[31m   \u001b[0m   \u001b[31m   \u001b[0m               On the other hand, currently there is no concept of package data\n",
      "  \u001b[31m   \u001b[0m   \u001b[31m   \u001b[0m               directory, all directories are treated like packages.\n",
      "  \u001b[31m   \u001b[0m   \u001b[31m   \u001b[0m         ********************************************************************************\n",
      "  \u001b[31m   \u001b[0m   \u001b[31m   \u001b[0m\n",
      "  \u001b[31m   \u001b[0m   \u001b[31m   \u001b[0m !!\n",
      "  \u001b[31m   \u001b[0m   \u001b[31m   \u001b[0m   check.warn(importable)\n",
      "  \u001b[31m   \u001b[0m   \u001b[31m   \u001b[0m copying thinc/__init__.pxd -> build/lib.macosx-11.1-arm64-cpython-312/thinc\n",
      "  \u001b[31m   \u001b[0m   \u001b[31m   \u001b[0m copying thinc/py.typed -> build/lib.macosx-11.1-arm64-cpython-312/thinc\n",
      "  \u001b[31m   \u001b[0m   \u001b[31m   \u001b[0m copying thinc/layers/premap_ids.pyx -> build/lib.macosx-11.1-arm64-cpython-312/thinc/layers\n",
      "  \u001b[31m   \u001b[0m   \u001b[31m   \u001b[0m copying thinc/layers/sparselinear.pyx -> build/lib.macosx-11.1-arm64-cpython-312/thinc/layers\n",
      "  \u001b[31m   \u001b[0m   \u001b[31m   \u001b[0m copying thinc/backends/__init__.pxd -> build/lib.macosx-11.1-arm64-cpython-312/thinc/backends\n",
      "  \u001b[31m   \u001b[0m   \u001b[31m   \u001b[0m copying thinc/backends/_custom_kernels.cu -> build/lib.macosx-11.1-arm64-cpython-312/thinc/backends\n",
      "  \u001b[31m   \u001b[0m   \u001b[31m   \u001b[0m copying thinc/backends/_murmur3.cu -> build/lib.macosx-11.1-arm64-cpython-312/thinc/backends\n",
      "  \u001b[31m   \u001b[0m   \u001b[31m   \u001b[0m copying thinc/backends/cblas.pxd -> build/lib.macosx-11.1-arm64-cpython-312/thinc/backends\n",
      "  \u001b[31m   \u001b[0m   \u001b[31m   \u001b[0m copying thinc/backends/cblas.pyx -> build/lib.macosx-11.1-arm64-cpython-312/thinc/backends\n",
      "  \u001b[31m   \u001b[0m   \u001b[31m   \u001b[0m copying thinc/backends/cpu_kernels.hh -> build/lib.macosx-11.1-arm64-cpython-312/thinc/backends\n",
      "  \u001b[31m   \u001b[0m   \u001b[31m   \u001b[0m copying thinc/backends/linalg.pxd -> build/lib.macosx-11.1-arm64-cpython-312/thinc/backends\n",
      "  \u001b[31m   \u001b[0m   \u001b[31m   \u001b[0m copying thinc/backends/linalg.pyx -> build/lib.macosx-11.1-arm64-cpython-312/thinc/backends\n",
      "  \u001b[31m   \u001b[0m   \u001b[31m   \u001b[0m copying thinc/backends/numpy_ops.pxd -> build/lib.macosx-11.1-arm64-cpython-312/thinc/backends\n",
      "  \u001b[31m   \u001b[0m   \u001b[31m   \u001b[0m copying thinc/backends/numpy_ops.pyx -> build/lib.macosx-11.1-arm64-cpython-312/thinc/backends\n",
      "  \u001b[31m   \u001b[0m   \u001b[31m   \u001b[0m copying thinc/extra/__init__.pxd -> build/lib.macosx-11.1-arm64-cpython-312/thinc/extra\n",
      "  \u001b[31m   \u001b[0m   \u001b[31m   \u001b[0m copying thinc/extra/search.pxd -> build/lib.macosx-11.1-arm64-cpython-312/thinc/extra\n",
      "  \u001b[31m   \u001b[0m   \u001b[31m   \u001b[0m copying thinc/extra/search.pyx -> build/lib.macosx-11.1-arm64-cpython-312/thinc/extra\n",
      "  \u001b[31m   \u001b[0m   \u001b[31m   \u001b[0m creating build/lib.macosx-11.1-arm64-cpython-312/thinc/tests/mypy/configs\n",
      "  \u001b[31m   \u001b[0m   \u001b[31m   \u001b[0m copying thinc/tests/mypy/configs/mypy-default.ini -> build/lib.macosx-11.1-arm64-cpython-312/thinc/tests/mypy/configs\n",
      "  \u001b[31m   \u001b[0m   \u001b[31m   \u001b[0m copying thinc/tests/mypy/configs/mypy-plugin.ini -> build/lib.macosx-11.1-arm64-cpython-312/thinc/tests/mypy/configs\n",
      "  \u001b[31m   \u001b[0m   \u001b[31m   \u001b[0m creating build/lib.macosx-11.1-arm64-cpython-312/thinc/tests/mypy/outputs\n",
      "  \u001b[31m   \u001b[0m   \u001b[31m   \u001b[0m copying thinc/tests/mypy/outputs/fail-no-plugin.txt -> build/lib.macosx-11.1-arm64-cpython-312/thinc/tests/mypy/outputs\n",
      "  \u001b[31m   \u001b[0m   \u001b[31m   \u001b[0m copying thinc/tests/mypy/outputs/fail-plugin.txt -> build/lib.macosx-11.1-arm64-cpython-312/thinc/tests/mypy/outputs\n",
      "  \u001b[31m   \u001b[0m   \u001b[31m   \u001b[0m copying thinc/tests/mypy/outputs/success-no-plugin.txt -> build/lib.macosx-11.1-arm64-cpython-312/thinc/tests/mypy/outputs\n",
      "  \u001b[31m   \u001b[0m   \u001b[31m   \u001b[0m copying thinc/tests/mypy/outputs/success-plugin.txt -> build/lib.macosx-11.1-arm64-cpython-312/thinc/tests/mypy/outputs\n",
      "  \u001b[31m   \u001b[0m   \u001b[31m   \u001b[0m copying thinc/extra/tests/c_test_search.pyx -> build/lib.macosx-11.1-arm64-cpython-312/thinc/extra/tests\n",
      "  \u001b[31m   \u001b[0m   \u001b[31m   \u001b[0m running build_ext\n",
      "  \u001b[31m   \u001b[0m   \u001b[31m   \u001b[0m building 'thinc.backends.cblas' extension\n",
      "  \u001b[31m   \u001b[0m   \u001b[31m   \u001b[0m creating build/temp.macosx-11.1-arm64-cpython-312/thinc/backends\n",
      "  \u001b[31m   \u001b[0m   \u001b[31m   \u001b[0m clang++ -fno-strict-overflow -Wsign-compare -Wunreachable-code -DNDEBUG -O2 -Wall -fPIC -O2 -isystem /opt/anaconda3/include -arch arm64 -fPIC -O2 -isystem /opt/anaconda3/include -arch arm64 -I/private/var/folders/pg/jb8x93712rx_j030xp_lp3_m0000gn/T/pip-build-env-y9af5ra4/overlay/lib/python3.12/site-packages/numpy/_core/include -I/opt/anaconda3/include/python3.12 -I/opt/anaconda3/include/python3.12 -c thinc/backends/cblas.cpp -o build/temp.macosx-11.1-arm64-cpython-312/thinc/backends/cblas.o -O3 -Wno-strict-prototypes -Wno-unused-function -std=c++11\n",
      "  \u001b[31m   \u001b[0m   \u001b[31m   \u001b[0m thinc/backends/cblas.cpp:782:10: fatal error: 'ios' file not found\n",
      "  \u001b[31m   \u001b[0m   \u001b[31m   \u001b[0m   782 | #include \"ios\"\n",
      "  \u001b[31m   \u001b[0m   \u001b[31m   \u001b[0m       |          ^~~~~\n",
      "  \u001b[31m   \u001b[0m   \u001b[31m   \u001b[0m 1 error generated.\n",
      "  \u001b[31m   \u001b[0m   \u001b[31m   \u001b[0m error: command '/usr/bin/clang++' failed with exit code 1\n",
      "  \u001b[31m   \u001b[0m   \u001b[31m   \u001b[0m \u001b[31m[end of output]\u001b[0m\n",
      "  \u001b[31m   \u001b[0m \n",
      "  \u001b[31m   \u001b[0m   \u001b[1;35mnote\u001b[0m: This error originates from a subprocess, and is likely not a problem with pip.\n",
      "  \u001b[31m   \u001b[0m \u001b[31m  ERROR: Failed building wheel for thinc\u001b[0m\u001b[31m\n",
      "  \u001b[31m   \u001b[0m \u001b[0mFailed to build thinc\n",
      "  \u001b[31m   \u001b[0m \u001b[31mERROR: ERROR: Failed to build installable wheels for some pyproject.toml based projects (thinc)\u001b[0m\u001b[31m\n",
      "  \u001b[31m   \u001b[0m \u001b[0m\n",
      "  \u001b[31m   \u001b[0m \u001b[31m[end of output]\u001b[0m\n",
      "  \n",
      "  \u001b[1;35mnote\u001b[0m: This error originates from a subprocess, and is likely not a problem with pip.\n",
      "\u001b[1;31merror\u001b[0m: \u001b[1msubprocess-exited-with-error\u001b[0m\n",
      "\n",
      "\u001b[31m×\u001b[0m \u001b[32mpip subprocess to install build dependencies\u001b[0m did not run successfully.\n",
      "\u001b[31m│\u001b[0m exit code: \u001b[1;36m1\u001b[0m\n",
      "\u001b[31m╰─>\u001b[0m See above for output.\n",
      "\n",
      "\u001b[1;35mnote\u001b[0m: This error originates from a subprocess, and is likely not a problem with pip.\n",
      "\u001b[?25hRequirement already satisfied: spacy in /opt/anaconda3/lib/python3.12/site-packages (3.8.7)\n",
      "Requirement already satisfied: spacy-legacy<3.1.0,>=3.0.11 in /opt/anaconda3/lib/python3.12/site-packages (from spacy) (3.0.12)\n",
      "Requirement already satisfied: spacy-loggers<2.0.0,>=1.0.0 in /opt/anaconda3/lib/python3.12/site-packages (from spacy) (1.0.5)\n",
      "Requirement already satisfied: murmurhash<1.1.0,>=0.28.0 in /opt/anaconda3/lib/python3.12/site-packages (from spacy) (1.0.13)\n",
      "Requirement already satisfied: cymem<2.1.0,>=2.0.2 in /opt/anaconda3/lib/python3.12/site-packages (from spacy) (2.0.11)\n",
      "Requirement already satisfied: preshed<3.1.0,>=3.0.2 in /opt/anaconda3/lib/python3.12/site-packages (from spacy) (3.0.10)\n",
      "Requirement already satisfied: thinc<8.4.0,>=8.3.4 in /opt/anaconda3/lib/python3.12/site-packages (from spacy) (8.3.6)\n",
      "Requirement already satisfied: wasabi<1.2.0,>=0.9.1 in /opt/anaconda3/lib/python3.12/site-packages (from spacy) (1.1.3)\n",
      "Requirement already satisfied: srsly<3.0.0,>=2.4.3 in /opt/anaconda3/lib/python3.12/site-packages (from spacy) (2.5.1)\n",
      "Requirement already satisfied: catalogue<2.1.0,>=2.0.6 in /opt/anaconda3/lib/python3.12/site-packages (from spacy) (2.0.10)\n",
      "Requirement already satisfied: weasel<0.5.0,>=0.1.0 in /opt/anaconda3/lib/python3.12/site-packages (from spacy) (0.4.1)\n",
      "Requirement already satisfied: typer<1.0.0,>=0.3.0 in /opt/anaconda3/lib/python3.12/site-packages (from spacy) (0.9.0)\n",
      "Requirement already satisfied: tqdm<5.0.0,>=4.38.0 in /opt/anaconda3/lib/python3.12/site-packages (from spacy) (4.66.5)\n",
      "Requirement already satisfied: numpy>=1.19.0 in /opt/anaconda3/lib/python3.12/site-packages (from spacy) (2.3.0)\n",
      "Requirement already satisfied: requests<3.0.0,>=2.13.0 in /opt/anaconda3/lib/python3.12/site-packages (from spacy) (2.32.3)\n",
      "Requirement already satisfied: pydantic!=1.8,!=1.8.1,<3.0.0,>=1.7.4 in /opt/anaconda3/lib/python3.12/site-packages (from spacy) (2.8.2)\n",
      "Requirement already satisfied: jinja2 in /opt/anaconda3/lib/python3.12/site-packages (from spacy) (3.1.4)\n",
      "Requirement already satisfied: setuptools in /opt/anaconda3/lib/python3.12/site-packages (from spacy) (75.1.0)\n",
      "Requirement already satisfied: packaging>=20.0 in /opt/anaconda3/lib/python3.12/site-packages (from spacy) (24.1)\n",
      "Requirement already satisfied: langcodes<4.0.0,>=3.2.0 in /opt/anaconda3/lib/python3.12/site-packages (from spacy) (3.5.0)\n",
      "Requirement already satisfied: language-data>=1.2 in /opt/anaconda3/lib/python3.12/site-packages (from langcodes<4.0.0,>=3.2.0->spacy) (1.3.0)\n",
      "Requirement already satisfied: annotated-types>=0.4.0 in /opt/anaconda3/lib/python3.12/site-packages (from pydantic!=1.8,!=1.8.1,<3.0.0,>=1.7.4->spacy) (0.6.0)\n",
      "Requirement already satisfied: pydantic-core==2.20.1 in /opt/anaconda3/lib/python3.12/site-packages (from pydantic!=1.8,!=1.8.1,<3.0.0,>=1.7.4->spacy) (2.20.1)\n",
      "Requirement already satisfied: typing-extensions>=4.6.1 in /opt/anaconda3/lib/python3.12/site-packages (from pydantic!=1.8,!=1.8.1,<3.0.0,>=1.7.4->spacy) (4.11.0)\n",
      "Requirement already satisfied: charset-normalizer<4,>=2 in /opt/anaconda3/lib/python3.12/site-packages (from requests<3.0.0,>=2.13.0->spacy) (3.3.2)\n",
      "Requirement already satisfied: idna<4,>=2.5 in /opt/anaconda3/lib/python3.12/site-packages (from requests<3.0.0,>=2.13.0->spacy) (3.7)\n",
      "Requirement already satisfied: urllib3<3,>=1.21.1 in /opt/anaconda3/lib/python3.12/site-packages (from requests<3.0.0,>=2.13.0->spacy) (2.2.3)\n",
      "Requirement already satisfied: certifi>=2017.4.17 in /opt/anaconda3/lib/python3.12/site-packages (from requests<3.0.0,>=2.13.0->spacy) (2024.12.14)\n",
      "Requirement already satisfied: blis<1.4.0,>=1.3.0 in /opt/anaconda3/lib/python3.12/site-packages (from thinc<8.4.0,>=8.3.4->spacy) (1.3.0)\n",
      "Requirement already satisfied: confection<1.0.0,>=0.0.1 in /opt/anaconda3/lib/python3.12/site-packages (from thinc<8.4.0,>=8.3.4->spacy) (0.1.5)\n",
      "Requirement already satisfied: click<9.0.0,>=7.1.1 in /opt/anaconda3/lib/python3.12/site-packages (from typer<1.0.0,>=0.3.0->spacy) (8.1.7)\n",
      "Requirement already satisfied: cloudpathlib<1.0.0,>=0.7.0 in /opt/anaconda3/lib/python3.12/site-packages (from weasel<0.5.0,>=0.1.0->spacy) (0.21.1)\n",
      "Requirement already satisfied: smart-open<8.0.0,>=5.2.1 in /opt/anaconda3/lib/python3.12/site-packages (from weasel<0.5.0,>=0.1.0->spacy) (5.2.1)\n",
      "Requirement already satisfied: MarkupSafe>=2.0 in /opt/anaconda3/lib/python3.12/site-packages (from jinja2->spacy) (2.1.3)\n",
      "Requirement already satisfied: marisa-trie>=1.1.0 in /opt/anaconda3/lib/python3.12/site-packages (from language-data>=1.2->langcodes<4.0.0,>=3.2.0->spacy) (1.2.1)\n",
      "Collecting en-core-web-md==3.8.0\n",
      "  Using cached https://github.com/explosion/spacy-models/releases/download/en_core_web_md-3.8.0/en_core_web_md-3.8.0-py3-none-any.whl (33.5 MB)\n",
      "\u001b[38;5;2m✔ Download and installation successful\u001b[0m\n",
      "You can now load the package via spacy.load('en_core_web_md')\n",
      "Requirement already satisfied: elasticsearch<9 in /opt/anaconda3/lib/python3.12/site-packages (8.18.1)\n",
      "Requirement already satisfied: elastic-transport<9,>=8.15.1 in /opt/anaconda3/lib/python3.12/site-packages (from elasticsearch<9) (8.17.1)\n",
      "Requirement already satisfied: python-dateutil in /opt/anaconda3/lib/python3.12/site-packages (from elasticsearch<9) (2.9.0.post0)\n",
      "Requirement already satisfied: typing-extensions in /opt/anaconda3/lib/python3.12/site-packages (from elasticsearch<9) (4.11.0)\n",
      "Requirement already satisfied: urllib3<3,>=1.26.2 in /opt/anaconda3/lib/python3.12/site-packages (from elastic-transport<9,>=8.15.1->elasticsearch<9) (2.2.3)\n",
      "Requirement already satisfied: certifi in /opt/anaconda3/lib/python3.12/site-packages (from elastic-transport<9,>=8.15.1->elasticsearch<9) (2024.12.14)\n",
      "Requirement already satisfied: six>=1.5 in /opt/anaconda3/lib/python3.12/site-packages (from python-dateutil->elasticsearch<9) (1.16.0)\n"
     ]
    }
   ],
   "source": [
    "!pip install \"pandas<2.2\" \"spacy<3.7\" \"scikit-learn<1.4\" \"sentence-transformers<3.0\" \"tqdm\" \"elasticsearch<9\" \"scipy<1.13\"\n",
    "!pip install spacy\n",
    "!python -m spacy download en_core_web_md\n",
    "!pip install \"elasticsearch<9\"\n",
    "\n",
    "from elasticsearch import Elasticsearch\n",
    "from sentence_transformers import SentenceTransformer\n",
    "import pandas as pd\n",
    "from tqdm import tqdm\n",
    "import re\n",
    "import spacy"
   ]
  },
  {
   "cell_type": "code",
   "execution_count": 6,
   "id": "d0845664-56ae-4741-a0c7-e901b75e80e3",
   "metadata": {},
   "outputs": [],
   "source": [
    "es = Elasticsearch(\n",
    "    hosts=[\"http://localhost:9200\"],   \n",
    ")\n"
   ]
  },
  {
   "cell_type": "code",
   "execution_count": 8,
   "id": "a7966753-dbdd-41c6-b83a-901365080ed5",
   "metadata": {},
   "outputs": [
    {
     "name": "stdout",
     "output_type": "stream",
     "text": [
      "{\n",
      "  \"name\" : \"b8c97dc95b62\",\n",
      "  \"cluster_name\" : \"docker-cluster\",\n",
      "  \"cluster_uuid\" : \"wQQ4DeSaQuurrH3YougLdw\",\n",
      "  \"version\" : {\n",
      "    \"number\" : \"8.18.1\",\n",
      "    \"build_flavor\" : \"default\",\n",
      "    \"build_type\" : \"docker\",\n",
      "    \"build_hash\" : \"df116ec6455476a07daafc3ded80e2bb1a3385ed\",\n",
      "    \"build_date\" : \"2025-04-30T10:07:44.026929518Z\",\n",
      "    \"build_snapshot\" : false,\n",
      "    \"lucene_version\" : \"9.12.1\",\n",
      "    \"minimum_wire_compatibility_version\" : \"7.17.0\",\n",
      "    \"minimum_index_compatibility_version\" : \"7.0.0\"\n",
      "  },\n",
      "  \"tagline\" : \"You Know, for Search\"\n",
      "}\n",
      "\n"
     ]
    }
   ],
   "source": [
    "import requests\n",
    "print(requests.get(\"http://localhost:9200\").text)\n"
   ]
  },
  {
   "cell_type": "code",
   "execution_count": 10,
   "id": "564e2ac4-92b9-4637-8c35-9e3e9967881a",
   "metadata": {},
   "outputs": [],
   "source": [
    "index_name = \"places_danang\"\n",
    "\n",
    "mapping = {\n",
    "    \"mappings\": {\n",
    "        \"properties\": {\n",
    "            \"type\": {\"type\": \"keyword\"},\n",
    "            \"name\": {\"type\": \"text\"},\n",
    "            \"description\": {\"type\": \"text\"},\n",
    "            \"time\": {\"type\": \"keyword\"},\n",
    "            \"price\": {\"type\": \"keyword\"},\n",
    "            \"location\": {\"type\": \"text\"},\n",
    "            \"area\": {\"type\": \"keyword\"},\n",
    "            \"note\": {\"type\": \"text\"},\n",
    "            \"id\": {\"type\": \"keyword\"},\n",
    "            \"full_text\": {\"type\": \"text\"},  \n",
    "            \"vector_search\": {\n",
    "                \"type\": \"dense_vector\",\n",
    "                \"dims\": 384,  \n",
    "                \"index\": True,           \n",
    "                \"similarity\": \"cosine\"  \n",
    "            }\n",
    "        }\n",
    "    }\n",
    "}\n"
   ]
  },
  {
   "cell_type": "code",
   "execution_count": 12,
   "id": "217b19e0-1735-449f-b2e2-69aff8d017e9",
   "metadata": {},
   "outputs": [],
   "source": [
    "try:\n",
    "    es.indices.create(index=index_name, body=mapping)\n",
    "except Exception as e:\n",
    "    print(\"Mapping error details:\", getattr(e, 'info', str(e)))"
   ]
  },
  {
   "cell_type": "code",
   "execution_count": 14,
   "id": "f6cc909e-d5b5-4532-9004-60caa6f557fd",
   "metadata": {},
   "outputs": [
    {
     "name": "stdout",
     "output_type": "stream",
     "text": [
      "Index `places_danang` đã được tạo!\n"
     ]
    }
   ],
   "source": [
    "#Delete pervious index and create a new one: \n",
    "if es.indices.exists(index=index_name):\n",
    "    es.indices.delete(index=index_name)\n",
    "es.indices.create(index=index_name, body=mapping)\n",
    "print(f\"Index `{index_name}` đã được tạo!\")\n"
   ]
  },
  {
   "cell_type": "code",
   "execution_count": 16,
   "id": "8cbdbfff-f66a-45a3-a1f4-53fd813d8d79",
   "metadata": {},
   "outputs": [
    {
     "data": {
      "application/vnd.jupyter.widget-view+json": {
       "model_id": "fe73c0015a324e4a90204da6d9ae36fc",
       "version_major": 2,
       "version_minor": 0
      },
      "text/plain": [
       "modules.json:   0%|          | 0.00/349 [00:00<?, ?B/s]"
      ]
     },
     "metadata": {},
     "output_type": "display_data"
    },
    {
     "data": {
      "application/vnd.jupyter.widget-view+json": {
       "model_id": "5e898708d1714cdf8ec100bbe4e61a28",
       "version_major": 2,
       "version_minor": 0
      },
      "text/plain": [
       "config_sentence_transformers.json:   0%|          | 0.00/116 [00:00<?, ?B/s]"
      ]
     },
     "metadata": {},
     "output_type": "display_data"
    },
    {
     "data": {
      "application/vnd.jupyter.widget-view+json": {
       "model_id": "45db364a8eb5414498e4cc8284a7a6a2",
       "version_major": 2,
       "version_minor": 0
      },
      "text/plain": [
       "README.md:   0%|          | 0.00/10.5k [00:00<?, ?B/s]"
      ]
     },
     "metadata": {},
     "output_type": "display_data"
    },
    {
     "data": {
      "application/vnd.jupyter.widget-view+json": {
       "model_id": "c98296b6c92847dc98c7fc6435ae0f5e",
       "version_major": 2,
       "version_minor": 0
      },
      "text/plain": [
       "sentence_bert_config.json:   0%|          | 0.00/53.0 [00:00<?, ?B/s]"
      ]
     },
     "metadata": {},
     "output_type": "display_data"
    },
    {
     "data": {
      "application/vnd.jupyter.widget-view+json": {
       "model_id": "09a0638332f7422bb4eae4f7f39c454e",
       "version_major": 2,
       "version_minor": 0
      },
      "text/plain": [
       "config.json:   0%|          | 0.00/612 [00:00<?, ?B/s]"
      ]
     },
     "metadata": {},
     "output_type": "display_data"
    },
    {
     "data": {
      "application/vnd.jupyter.widget-view+json": {
       "model_id": "1f279fc85fcf4b3a9a036606b753f7ca",
       "version_major": 2,
       "version_minor": 0
      },
      "text/plain": [
       "model.safetensors:   0%|          | 0.00/90.9M [00:00<?, ?B/s]"
      ]
     },
     "metadata": {},
     "output_type": "display_data"
    },
    {
     "data": {
      "application/vnd.jupyter.widget-view+json": {
       "model_id": "91de966061324f1fb438e29ba39025e3",
       "version_major": 2,
       "version_minor": 0
      },
      "text/plain": [
       "tokenizer_config.json:   0%|          | 0.00/350 [00:00<?, ?B/s]"
      ]
     },
     "metadata": {},
     "output_type": "display_data"
    },
    {
     "data": {
      "application/vnd.jupyter.widget-view+json": {
       "model_id": "283af74efe88435db0cadbf8e56d3cd7",
       "version_major": 2,
       "version_minor": 0
      },
      "text/plain": [
       "vocab.txt:   0%|          | 0.00/232k [00:00<?, ?B/s]"
      ]
     },
     "metadata": {},
     "output_type": "display_data"
    },
    {
     "data": {
      "application/vnd.jupyter.widget-view+json": {
       "model_id": "fad1d7fd70b24be7bd4f38b5622b1bed",
       "version_major": 2,
       "version_minor": 0
      },
      "text/plain": [
       "tokenizer.json:   0%|          | 0.00/466k [00:00<?, ?B/s]"
      ]
     },
     "metadata": {},
     "output_type": "display_data"
    },
    {
     "data": {
      "application/vnd.jupyter.widget-view+json": {
       "model_id": "2c9b7cc8bf1e4ed9aa56d87cf1661d7c",
       "version_major": 2,
       "version_minor": 0
      },
      "text/plain": [
       "special_tokens_map.json:   0%|          | 0.00/112 [00:00<?, ?B/s]"
      ]
     },
     "metadata": {},
     "output_type": "display_data"
    },
    {
     "data": {
      "application/vnd.jupyter.widget-view+json": {
       "model_id": "e8b99b1745ad41da8913eb75e089e9ec",
       "version_major": 2,
       "version_minor": 0
      },
      "text/plain": [
       "config.json:   0%|          | 0.00/190 [00:00<?, ?B/s]"
      ]
     },
     "metadata": {},
     "output_type": "display_data"
    }
   ],
   "source": [
    "model = SentenceTransformer('all-MiniLM-L6-v2')\n"
   ]
  },
  {
   "cell_type": "code",
   "execution_count": 18,
   "id": "2216a401-3339-4b29-9ef5-78647ac84c5e",
   "metadata": {},
   "outputs": [
    {
     "name": "stderr",
     "output_type": "stream",
     "text": [
      "100%|███████████████████████████████| 299/299 [00:06<00:00, 46.15it/s]\n",
      "100%|██████████████████████████████| 299/299 [00:01<00:00, 154.22it/s]\n"
     ]
    }
   ],
   "source": [
    "df = pd.read_csv(\"../Data/data_danang_ok.csv\")  # Đường dẫn file của bạn\n",
    "\n",
    "# Tạo embedding cho từng record\n",
    "def embed(text):\n",
    "    return model.encode(text).tolist()\n",
    "\n",
    "# Nếu cột vector_search đã có, bỏ qua đoạn này, còn không:\n",
    "tqdm.pandas()\n",
    "df[\"vector_search\"] = df[\"full_text\"].progress_apply(embed)\n",
    "\n",
    "#indexing data to elasticsearch\n",
    "for i, row in tqdm(df.iterrows(), total=len(df)):\n",
    "    doc = row.to_dict()\n",
    "    # Nếu vector_search dạng numpy, cần chuyển sang list\n",
    "    es.index(index=index_name, id=doc[\"id\"], document=doc)"
   ]
  },
  {
   "cell_type": "markdown",
   "id": "cc972747-b049-4957-9a77-cf733aea8500",
   "metadata": {},
   "source": [
    "**Querry processing for better search**"
   ]
  },
  {
   "cell_type": "code",
   "execution_count": 20,
   "id": "b718833c-5020-467d-aa9a-bb430e7c6e41",
   "metadata": {},
   "outputs": [],
   "source": [
    "#extract keywords for better keyword search\n",
    "nlp = spacy.load(\"en_core_web_md\")\n",
    "def preprocess_bm25_query(query):\n",
    "    doc = nlp(query)\n",
    "    return \" \".join([chunk.text.strip() for chunk in doc.noun_chunks if len(chunk.text.strip()) > 2])\n",
    "#preprocess_bm25_query(\"suggest a noodle soup for breakfast near center\")"
   ]
  },
  {
   "cell_type": "code",
   "execution_count": 22,
   "id": "60ddee44-6a79-414d-96ef-aa939e504b0f",
   "metadata": {},
   "outputs": [],
   "source": [
    "#remove non-sense words \n",
    "STOP_WORDS = {\n",
    "    \"a\", \"an\", \"and\", \"are\", \"as\", \"at\", \"be\", \"but\", \"by\", \"for\", \"if\",\n",
    "    \"in\", \"into\", \"is\", \"it\", \"no\", \"not\", \"of\", \"on\", \"or\", \"such\", \"that\",\n",
    "    \"the\", \"their\", \"then\", \"there\", \"these\", \"they\", \"this\", \"to\", \"was\",\n",
    "    \"will\", \"with\", \"me\", \"my\", \"you\", \"your\", \"we\", \"our\", \"us\", \"he\",\n",
    "    \"him\", \"his\", \"she\", \"her\", \"hers\", \"it\", \"its\", \"them\", \"so\", \"too\"\n",
    "}\n",
    "\n",
    "def preprocess_query_for_vector(query):\n",
    "    # Bỏ dấu câu (tuỳ chọn, để nguyên cũng được vì embedding model hiểu)\n",
    "    query_no_punct = re.sub(r'[^\\w\\s]', '', query)\n",
    "    # Bỏ stopword, giữ lại trật tự và ý nghĩa câu\n",
    "    words = query_no_punct.split()\n",
    "    filtered = [w for w in words if w.lower() not in STOP_WORDS]\n",
    "    # Ghép lại thành câu ngắn gọn\n",
    "    processed_query = \" \".join(filtered) if filtered else query\n",
    "    return processed_query\n",
    "\n",
    "# Ví dụ:\n",
    "#preprocess_query_for_vector( \"Where to eat Bun Bo Hue in the evening?\")\n",
    "    #-> \"Where eat Bun Bo Hue evening\""
   ]
  },
  {
   "cell_type": "markdown",
   "id": "ab401106-18f2-48fa-9ce1-a7a66e73e2e0",
   "metadata": {},
   "source": [
    "**Search**"
   ]
  },
  {
   "cell_type": "code",
   "execution_count": 82,
   "id": "09f4bf9c-9031-4fee-9f49-ff4e746838e1",
   "metadata": {},
   "outputs": [],
   "source": [
    "def bm25_search(query, top_k=10, type_filter=None):\n",
    "    #processed_query = preprocess_bm25_query(query)\n",
    "    query = preprocess_bm25_query(query)\n",
    "    must_clauses = [\n",
    "        {\n",
    "            \"multi_match\": {\n",
    "                \"query\": query,\n",
    "                \"fields\": [\"name^3\", \"description^2\", \"note\", \"full_text\"],\n",
    "                \"operator\": \"or\",\n",
    "                \"type\": \"most_fields\"\n",
    "            }\n",
    "        }\n",
    "    ]\n",
    "\n",
    "    # Nếu có filter, thêm điều kiện\n",
    "    if type_filter:\n",
    "        must_clauses.append({\"term\": {\"type\": type_filter}})\n",
    "\n",
    "    body = {\n",
    "        \"size\": top_k,\n",
    "        \"query\": {\n",
    "            \"bool\": {\n",
    "                \"must\": must_clauses\n",
    "            }\n",
    "        }\n",
    "    }\n",
    "\n",
    "    res = es.search(index=index_name, body=body)\n",
    "    return [\n",
    "        {\n",
    "            \"id\": hit[\"_source\"][\"id\"],\n",
    "            \"score\": hit[\"_score\"],\n",
    "            \"name\": hit[\"_source\"][\"name\"],\n",
    "            \"description\": hit[\"_source\"][\"description\"],\n",
    "            \"time\": hit[\"_source\"][\"time\"],\n",
    "            \"price\": hit[\"_source\"][\"price\"],\n",
    "            \"location\": hit[\"_source\"][\"location\"],\n",
    "            \"area\": hit[\"_source\"][\"area\"],\n",
    "            \"note\": hit[\"_source\"][\"note\"],\n",
    "            \"type\": hit[\"_source\"][\"type\"]\n",
    "        }\n",
    "        for hit in res[\"hits\"][\"hits\"]\n",
    "    ]\n",
    "\n",
    "def bm25_search_processed(query, top_k=10, type_filter=None):\n",
    "    processed_query = preprocess_bm25_query(query)\n",
    "    query = preprocess_bm25_query(query)\n",
    "    must_clauses = [\n",
    "        {\n",
    "            \"multi_match\": {\n",
    "                \"query\": query,\n",
    "                \"fields\": [\"name^3\", \"description^2\", \"note\", \"full_text\"],\n",
    "                \"operator\": \"or\",\n",
    "                \"type\": \"most_fields\"\n",
    "            }\n",
    "        }\n",
    "    ]\n",
    "\n",
    "    # Nếu có filter, thêm điều kiện\n",
    "    if type_filter:\n",
    "        must_clauses.append({\"term\": {\"type\": type_filter}})\n",
    "\n",
    "    body = {\n",
    "        \"size\": top_k,\n",
    "        \"query\": {\n",
    "            \"bool\": {\n",
    "                \"must\": must_clauses\n",
    "            }\n",
    "        }\n",
    "    }\n",
    "\n",
    "    res = es.search(index=index_name, body=body)\n",
    "    return [\n",
    "        {\n",
    "            \"id\": hit[\"_source\"][\"id\"],\n",
    "            \"score\": hit[\"_score\"],\n",
    "            \"name\": hit[\"_source\"][\"name\"],\n",
    "            \"description\": hit[\"_source\"][\"description\"],\n",
    "            \"time\": hit[\"_source\"][\"time\"],\n",
    "            \"price\": hit[\"_source\"][\"price\"],\n",
    "            \"location\": hit[\"_source\"][\"location\"],\n",
    "            \"area\": hit[\"_source\"][\"area\"],\n",
    "            \"note\": hit[\"_source\"][\"note\"],\n",
    "            \"type\": hit[\"_source\"][\"type\"]\n",
    "        }\n",
    "        for hit in res[\"hits\"][\"hits\"]\n",
    "    ]\n",
    "#khi goi bm25_search(query, type_filter=\"eat\") -> tim trong moi muc eat thoi "
   ]
  },
  {
   "cell_type": "code",
   "execution_count": 90,
   "id": "15333771-f52d-4e6f-913f-b66cd2bae04b",
   "metadata": {},
   "outputs": [],
   "source": [
    "def vector_search(query, top_k=10, type_filter=None):\n",
    "    #query = preprocess_query_for_vector(query)\n",
    "    query_vec = model.encode(query).tolist()\n",
    "\n",
    "    # Nếu có filter, dùng bool; nếu không, dùng match_all như cũ\n",
    "    if type_filter:\n",
    "        inner_query = {\n",
    "            \"bool\": {\n",
    "                \"must\": [\n",
    "                    {\"term\": {\"type\": type_filter}}\n",
    "                ]\n",
    "            }\n",
    "        }\n",
    "    else:\n",
    "        inner_query = {\"match_all\": {}}\n",
    "\n",
    "    body = {\n",
    "        \"size\": top_k,\n",
    "        \"query\": {\n",
    "            \"script_score\": {\n",
    "                \"query\": inner_query,\n",
    "                \"script\": {\n",
    "                    \"source\": \"cosineSimilarity(params.query_vector, 'vector_search') + 1.0\",\n",
    "                    \"params\": {\"query_vector\": query_vec}\n",
    "                }\n",
    "            }\n",
    "        }\n",
    "    }\n",
    "    res = es.search(index=index_name, body=body)\n",
    "    return [\n",
    "        {\n",
    "            \"id\": hit[\"_source\"][\"id\"],\n",
    "            \"score\": hit[\"_score\"],\n",
    "            \"name\": hit[\"_source\"][\"name\"],\n",
    "            \"description\": hit[\"_source\"][\"description\"],\n",
    "            \"time\": hit[\"_source\"][\"time\"],\n",
    "            \"price\": hit[\"_source\"][\"price\"],\n",
    "            \"location\": hit[\"_source\"][\"location\"],\n",
    "            \"area\": hit[\"_source\"][\"area\"],\n",
    "            \"note\": hit[\"_source\"][\"note\"],\n",
    "            \"type\": hit[\"_source\"][\"type\"]\n",
    "        }\n",
    "        for hit in res[\"hits\"][\"hits\"]\n",
    "    ]\n",
    "    \n",
    "def vector_search_processed(query, top_k=10, type_filter=None):\n",
    "    query = preprocess_query_for_vector(query)\n",
    "    query_vec = model.encode(query).tolist()\n",
    "\n",
    "    # Nếu có filter, dùng bool; nếu không, dùng match_all như cũ\n",
    "    if type_filter:\n",
    "        inner_query = {\n",
    "            \"bool\": {\n",
    "                \"must\": [\n",
    "                    {\"term\": {\"type\": type_filter}}\n",
    "                ]\n",
    "            }\n",
    "        }\n",
    "    else:\n",
    "        inner_query = {\"match_all\": {}}\n",
    "\n",
    "    body = {\n",
    "        \"size\": top_k,\n",
    "        \"query\": {\n",
    "            \"script_score\": {\n",
    "                \"query\": inner_query,\n",
    "                \"script\": {\n",
    "                    \"source\": \"cosineSimilarity(params.query_vector, 'vector_search') + 1.0\",\n",
    "                    \"params\": {\"query_vector\": query_vec}\n",
    "                }\n",
    "            }\n",
    "        }\n",
    "    }\n",
    "    res = es.search(index=index_name, body=body)\n",
    "    return [\n",
    "        {\n",
    "            \"id\": hit[\"_source\"][\"id\"],\n",
    "            \"score\": hit[\"_score\"],\n",
    "            \"name\": hit[\"_source\"][\"name\"],\n",
    "            \"description\": hit[\"_source\"][\"description\"],\n",
    "            \"time\": hit[\"_source\"][\"time\"],\n",
    "            \"price\": hit[\"_source\"][\"price\"],\n",
    "            \"location\": hit[\"_source\"][\"location\"],\n",
    "            \"area\": hit[\"_source\"][\"area\"],\n",
    "            \"note\": hit[\"_source\"][\"note\"],\n",
    "            \"type\": hit[\"_source\"][\"type\"]\n",
    "        }\n",
    "        for hit in res[\"hits\"][\"hits\"]\n",
    "    ]\n",
    "#vector_search(query, type_filter=\"eat\")"
   ]
  },
  {
   "cell_type": "code",
   "execution_count": 28,
   "id": "97e3890e-2865-4dce-9a71-fa547b3c0be3",
   "metadata": {},
   "outputs": [],
   "source": [
    "def reciprocal_rank_fusion(lexical_hits, semantic_hits, k=60, top_k=5):\n",
    "    rrf_scores = {}\n",
    "    # Lexical hits\n",
    "    for rank, hit in enumerate(lexical_hits, start=1):\n",
    "        doc_id = hit[\"id\"]\n",
    "        score = 1 / (k + rank)\n",
    "        if doc_id in rrf_scores:\n",
    "            rrf_scores[doc_id][\"rrf_score\"] += score\n",
    "            rrf_scores[doc_id][\"lexical_score\"] = hit[\"score\"]\n",
    "        else:\n",
    "            rrf_scores[doc_id] = {**hit, \"lexical_score\": hit[\"score\"], \"semantic_score\": 0, \"rrf_score\": score}\n",
    "    # Semantic hits\n",
    "    for rank, hit in enumerate(semantic_hits, start=1):\n",
    "        doc_id = hit[\"id\"]\n",
    "        score = 1 / (k + rank)\n",
    "        if doc_id in rrf_scores:\n",
    "            rrf_scores[doc_id][\"rrf_score\"] += score\n",
    "            rrf_scores[doc_id][\"semantic_score\"] = hit[\"score\"]\n",
    "        else:\n",
    "            rrf_scores[doc_id] = {**hit, \"lexical_score\": 0, \"semantic_score\": hit[\"score\"], \"rrf_score\": score}\n",
    "    results = sorted(rrf_scores.values(), key=lambda x: x[\"rrf_score\"], reverse=True)[:top_k]\n",
    "    return results\n"
   ]
  },
  {
   "cell_type": "code",
   "execution_count": 92,
   "id": "43bf3b8a-8cd2-4eca-84f4-4982e36283cf",
   "metadata": {},
   "outputs": [],
   "source": [
    "'''\n",
    "def hybrid_search(query, top_k=5, alpha=0.5):\n",
    "    # BM25\n",
    "    bm25_results = bm25_search(query, top_k=top_k*2)\n",
    "    bm25_ids = {doc[\"id\"]: doc for doc in bm25_results}\n",
    "\n",
    "    # Vector\n",
    "    vec_results = vector_search(query, top_k=top_k*2)\n",
    "    vec_ids = {doc[\"id\"]: doc for doc in vec_results}\n",
    "\n",
    "    # Gộp tất cả id\n",
    "    all_ids = set(bm25_ids.keys()) | set(vec_ids.keys())\n",
    "\n",
    "    # Tính điểm hybrid\n",
    "    hybrid_results = []\n",
    "    for id_ in all_ids:\n",
    "        bm25_score = bm25_ids.get(id_, {}).get(\"score\", 0)\n",
    "        vec_score = vec_ids.get(id_, {}).get(\"score\", 0)\n",
    "        score = (1 - alpha) * bm25_score + alpha * vec_score\n",
    "        hybrid_results.append({\n",
    "            \"id\": id_,\n",
    "            \"hybrid_score\": score,\n",
    "            \"full_text\": bm25_ids.get(id_, vec_ids.get(id_, {})).get(\"full_text\", \"\")\n",
    "        })\n",
    "\n",
    "    # Sort theo điểm hybrid\n",
    "    hybrid_results = sorted(hybrid_results, key=lambda x: x[\"hybrid_score\"], reverse=True)[:top_k]\n",
    "    return hybrid_results\n",
    "'''\n",
    "def hybrid_search(query, top_k=5, k_rrf=60, type_filter=None):\n",
    "    bm25_results = bm25_search(query, top_k=top_k*2,type_filter=type_filter )   # Lấy nhiều hơn để RRF hiệu quả hơn\n",
    "    vector_results = vector_search(query, top_k=top_k*2, type_filter=type_filter)\n",
    "    results = reciprocal_rank_fusion(bm25_results, vector_results, k=k_rrf, top_k=top_k)\n",
    "    return results\n",
    "\n",
    "def hybrid_search_with_process_query(query, top_k=5, k_rrf=60, type_filter=None):\n",
    "    bm25_results = bm25_search_processed(query, top_k=top_k*2,type_filter=type_filter )   # Lấy nhiều hơn để RRF hiệu quả hơn\n",
    "    vector_results = vector_search_processed(query, top_k=top_k*2, type_filter=type_filter)\n",
    "    results = reciprocal_rank_fusion(bm25_results, vector_results, k=k_rrf, top_k=top_k)\n",
    "    return results\n"
   ]
  },
  {
   "cell_type": "markdown",
   "id": "13e1f3a3-de70-4bba-b270-3cbbb73ad64d",
   "metadata": {},
   "source": [
    "**Testing search**"
   ]
  },
  {
   "cell_type": "code",
   "execution_count": 32,
   "id": "e058d148-5698-47b2-8bfe-fcf21e918f2c",
   "metadata": {},
   "outputs": [
    {
     "name": "stdout",
     "output_type": "stream",
     "text": [
      "BM25: [{'id': 'eat_014', 'score': 17.979988, 'name': 'Bun Bo Ba Thuong', 'description': 'hue-style spicy beef noodle soup', 'time': 'morning', 'price': '35k VND (~1.4$)', 'location': '23 Ngo Gia Tu', 'area': 'center', 'note': 'Bun Bo Ba Thuong offers spicy broth with lemongrass, beef shank, and thick round noodles.', 'type': 'eat'}, {'id': 'eat_085', 'score': 16.530079, 'name': 'Lau Bo Co Tuyet', 'description': 'beef hotpot', 'time': 'evening', 'price': '220k VND (~9$)/set', 'location': '49 Nguyen Duy Hieu', 'area': 'center', 'note': 'Co Tuyet’s beef hotpot includes slices of beef, tendon, vegetables, and tofu in spicy lemongrass broth.', 'type': 'eat'}, {'id': 'eat_068', 'score': 15.2986965, 'name': 'Mi Quang Ca Loc Co Thuy', 'description': 'turmeric noodles with fish', 'time': 'lunch', 'price': '40k VND (~1.6$)', 'location': '67 Hoang Dieu', 'area': 'center', 'note': 'Mi Quang Ca Loc Co Thuy features crispy snakehead fish with yellow noodles and crushed peanuts.', 'type': 'eat'}, {'id': 'eat_027', 'score': 14.2383995, 'name': 'Mi Vit Tiem Ba Son', 'description': 'braised duck with egg noodles', 'time': 'lunch', 'price': '60k VND (~2.4$)', 'location': '109 Hoang Dieu', 'area': 'center', 'note': 'Mi Vit Tiem Ba Son serves Chinese-style duck in herbal broth with egg noodles and bok choy.', 'type': 'eat'}, {'id': 'eat_094', 'score': 14.115665, 'name': 'Bo Kho Co Suong', 'description': 'spicy beef stew', 'time': 'morning', 'price': '50k VND (~2$)', 'location': '27 Nguyen Huu Tho', 'area': 'center', 'note': 'Co Suong serves fragrant beef stew with carrots and lemongrass, served with warm baguettes.', 'type': 'eat'}, {'id': 'eat_044', 'score': 13.565269, 'name': 'Bun Cha Ha Noi Co Nga', 'description': 'grilled pork with noodles and herbs', 'time': 'lunch', 'price': '45k VND (~1.8$)', 'location': '23 Le Duan', 'area': 'center', 'note': 'Bun Cha Co Nga offers Hanoi-style grilled pork patties in broth with cold noodles and garlic vinegar.', 'type': 'eat'}, {'id': 'eat_048', 'score': 13.218815, 'name': 'Bo Luc Lac Co Huong', 'description': 'shaking beef with rice', 'time': 'lunch', 'price': '60k VND (~2.4$)', 'location': '76 Pham Van Dong', 'area': 'beach', 'note': 'Bo Luc Lac Co Huong serves sautéed beef cubes with garlic, salad, and tomato rice.', 'type': 'eat'}, {'id': 'eat_020', 'score': 13.140179, 'name': 'Bo Kho Banh My Co Lan', 'description': 'beef stew with baguette', 'time': 'morning', 'price': '45k VND (~1.8$)', 'location': '33 Le Loi', 'area': 'center', 'note': 'Bo Kho Co Lan features rich beef stew with carrots and herbs, served with crusty bread.', 'type': 'eat'}, {'id': 'eat_037', 'score': 12.772467, 'name': 'Banh Trang Cuon Ba Hang', 'description': 'rolled rice paper with beef', 'time': 'evening', 'price': '50k VND (~2$)', 'location': '122 Le Duan', 'area': 'center', 'note': 'Ba Hang’s restaurant specializes in rice paper rolls with beef jerky, starfruit, and banana.', 'type': 'eat'}, {'id': 'eat_065', 'score': 12.73139, 'name': 'Bo Kho Banh Mi Co Thao', 'description': 'beef stew with french bread', 'time': 'morning', 'price': '50k VND (~2$)', 'location': '102 Nguyen Chi Thanh', 'area': 'center', 'note': 'Co Thao’s beef stew is tender and spicy, served with warm baguettes and herbs.', 'type': 'eat'}]\n"
     ]
    }
   ],
   "source": [
    "query = \"Where to eat beef noodles\"\n",
    "#print(\"BM25:\", bm25_search(query, type_filter = 'eat'))\n",
    "#print(\"Vector:\", vector_search(query, type_filter=\"see\"))\n",
    "#print(\"Hybrid:\", hybrid_search(query, type_filter=\"eat\"))\n"
   ]
  },
  {
   "cell_type": "markdown",
   "id": "4dc94ad2-4db9-449e-b91c-587ed8cc876d",
   "metadata": {},
   "source": [
    "**Build Prompt**"
   ]
  },
  {
   "cell_type": "code",
   "execution_count": 34,
   "id": "8ee5d424-6b9b-4ce0-a405-77879ad9e842",
   "metadata": {},
   "outputs": [],
   "source": [
    "entry_template = \"\"\"\n",
    "Name: {name}\n",
    "Type: {type}\n",
    "Description: {description}\n",
    "Time: {time}\n",
    "Price: {price}\n",
    "Location: {location}\n",
    "Area: {area}\n",
    "Note: {note}\n",
    "\"\"\".strip()\n",
    "\n",
    "prompt_template = \"\"\"\n",
    "You are a helpful local travel assistant for Da Nang. Answer the QUESTION based on the CONTEXT from our database of places to eat, see, and stay.\n",
    "Only use the facts from the CONTEXT when answering the QUESTION. If you don't know, say you don't know.\n",
    "\n",
    "QUESTION: {question}\n",
    "\n",
    "CONTEXT:\n",
    "{context}\n",
    "\"\"\".strip()"
   ]
  },
  {
   "cell_type": "code",
   "execution_count": 36,
   "id": "4b72ec4f-2ff0-4dc0-8e11-71ca4836abec",
   "metadata": {},
   "outputs": [],
   "source": [
    "def build_prompt(query, search_results):\n",
    "    context = \"\"\n",
    "    for doc in search_results:\n",
    "        context += entry_template.format(**doc) + \"\\n\\n\"\n",
    "    prompt = prompt_template.format(question=query, context=context).strip()\n",
    "    return prompt"
   ]
  },
  {
   "cell_type": "code",
   "execution_count": 38,
   "id": "c0c175ef-6868-442d-beda-f067984a5160",
   "metadata": {},
   "outputs": [
    {
     "name": "stdout",
     "output_type": "stream",
     "text": [
      "You are a helpful local travel assistant for Da Nang. Answer the QUESTION based on the CONTEXT from our database of places to eat, see, and stay.\n",
      "Only use the facts from the CONTEXT when answering the QUESTION. If you don't know, say you don't know.\n",
      "\n",
      "QUESTION: Where can I eat grilled fish in Da Nang?\n",
      "\n",
      "CONTEXT:\n",
      "Name: Bun Cha Ca Ba Lu\n",
      "Type: eat\n",
      "Description: grilled fish noodle soup\n",
      "Time: morning\n",
      "Price: 35k VND (~1.4$)\n",
      "Location: 319 Hung Vuong\n",
      "Area: center\n",
      "Note: Bun Cha Ca Ba Lu is known for its rich fish-based broth, crispy fried fish cakes, and fresh herbs.\n",
      "\n",
      "Name: Bun Cha Ca Ong Ta\n",
      "Type: eat\n",
      "Description: grilled fish cake noodle soup\n",
      "Time: morning\n",
      "Price: 35k VND (~1.4$)\n",
      "Location: 113 Nguyen Van Thoai\n",
      "Area: beach\n",
      "Note: Ong Ta’s Bun Cha Ca is known for tender fish cake slices in a mildly sweet and spicy broth with green onions.\n"
     ]
    }
   ],
   "source": [
    "sample_query = \"Where can I eat grilled fish in Da Nang?\"\n",
    "search_results = hybrid_search(sample_query, top_k=2, type_filter=\"eat\")  # hoặc merged từ RRF\n",
    "prompt = build_prompt(sample_query, search_results)\n",
    "print(prompt)\n"
   ]
  },
  {
   "cell_type": "code",
   "execution_count": 40,
   "id": "8a7aeb1d-eead-4875-817c-6eba7ac2a0d8",
   "metadata": {},
   "outputs": [],
   "source": [
    "from openai import OpenAI\n",
    "\n",
    "client = OpenAI(\n",
    "    base_url='http://localhost:11434/v1/',\n",
    "    api_key='ollama',  \n",
    ")"
   ]
  },
  {
   "cell_type": "code",
   "execution_count": 42,
   "id": "c04b294a-6264-4126-b96f-b5f042e19982",
   "metadata": {},
   "outputs": [],
   "source": [
    "def llm(prompt):\n",
    "    response = client.chat.completions.create(\n",
    "        model='llama3.1',\n",
    "        messages=[{\"role\": \"user\", \"content\": prompt}]\n",
    "    )\n",
    "    return response.choices[0].message.content\n"
   ]
  },
  {
   "cell_type": "code",
   "execution_count": 44,
   "id": "095583df-d71d-4d28-a105-e0d10fad08d3",
   "metadata": {},
   "outputs": [
    {
     "name": "stdout",
     "output_type": "stream",
     "text": [
      "The capital of Vietnam is Hanoi. Well done for asking a great question!\n",
      "\n",
      "Would you like to know more about Vietnam or perhaps something else related to its culture, history, or geography? I'm here to help!\n"
     ]
    }
   ],
   "source": [
    "#test llm\n",
    "print(llm(\"Hello, what is the capital of Viet Nam?\"))"
   ]
  },
  {
   "cell_type": "code",
   "execution_count": 46,
   "id": "3684ee58-8998-4db2-81ff-c1522c4cf618",
   "metadata": {},
   "outputs": [
    {
     "name": "stdout",
     "output_type": "stream",
     "text": [
      "Considering you want a noodle soup for breakfast in the center, I would recommend Bun Rieu Cua Co Ba at 45 Nguyen Cong Tru or Mi Hoanh Thanh Ba Thu at 28 Le Dinh Duong. Both options are located in the center and serve delicious noodle soups suitable for morning.\n",
      "\n",
      "However, if you're looking for a more traditional breakfast option, I can suggest Pho Bo Co Sau at its second location is too far from them but another day you can have a look\n"
     ]
    }
   ],
   "source": [
    "def rag(query, type_filter=None, top_k=3):\n",
    "    search_results = hybrid_search(query, top_k=top_k, type_filter=type_filter)\n",
    "    prompt = build_prompt(query, search_results)\n",
    "    answer = llm(prompt)\n",
    "    return answer\n",
    "\n",
    "# Test end-to-end\n",
    "print(rag(\"Suggest a noodle soup for breakfast in the center\", type_filter=\"eat\"))\n"
   ]
  },
  {
   "cell_type": "markdown",
   "id": "f8e0f9d1-52fd-45a1-aaf6-66959b1776e2",
   "metadata": {},
   "source": [
    "**Retriever evaluation**"
   ]
  },
  {
   "cell_type": "code",
   "execution_count": 62,
   "id": "9bae7e18-5cff-42c0-bd78-ff77ff3ccd10",
   "metadata": {
    "scrolled": true
   },
   "outputs": [],
   "source": [
    "df_question = pd.read_csv(\"../Data/ground-truth-retrieval.csv\")"
   ]
  },
  {
   "cell_type": "code",
   "execution_count": 64,
   "id": "6df29bfd-6440-49c6-b6bf-80116bf83910",
   "metadata": {},
   "outputs": [
    {
     "data": {
      "text/html": [
       "<div>\n",
       "<style scoped>\n",
       "    .dataframe tbody tr th:only-of-type {\n",
       "        vertical-align: middle;\n",
       "    }\n",
       "\n",
       "    .dataframe tbody tr th {\n",
       "        vertical-align: top;\n",
       "    }\n",
       "\n",
       "    .dataframe thead th {\n",
       "        text-align: right;\n",
       "    }\n",
       "</style>\n",
       "<table border=\"1\" class=\"dataframe\">\n",
       "  <thead>\n",
       "    <tr style=\"text-align: right;\">\n",
       "      <th></th>\n",
       "      <th>id</th>\n",
       "      <th>question</th>\n",
       "    </tr>\n",
       "  </thead>\n",
       "  <tbody>\n",
       "    <tr>\n",
       "      <th>0</th>\n",
       "      <td>eat_000</td>\n",
       "      <td>What type of dish does Bun Cha Ca Ba Lu serve?</td>\n",
       "    </tr>\n",
       "    <tr>\n",
       "      <th>1</th>\n",
       "      <td>eat_000</td>\n",
       "      <td>Is Bun Cha Ca Ba Lu a morning or evening meal ...</td>\n",
       "    </tr>\n",
       "    <tr>\n",
       "      <th>2</th>\n",
       "      <td>eat_000</td>\n",
       "      <td>How much can I expect to pay for a meal at Bun...</td>\n",
       "    </tr>\n",
       "    <tr>\n",
       "      <th>3</th>\n",
       "      <td>eat_001</td>\n",
       "      <td>What type of dish is served at My Quang Ba Mua</td>\n",
       "    </tr>\n",
       "    <tr>\n",
       "      <th>4</th>\n",
       "      <td>eat_001</td>\n",
       "      <td>Can I dine at My Quang Ba Mua in the evening</td>\n",
       "    </tr>\n",
       "  </tbody>\n",
       "</table>\n",
       "</div>"
      ],
      "text/plain": [
       "        id                                           question\n",
       "0  eat_000     What type of dish does Bun Cha Ca Ba Lu serve?\n",
       "1  eat_000  Is Bun Cha Ca Ba Lu a morning or evening meal ...\n",
       "2  eat_000  How much can I expect to pay for a meal at Bun...\n",
       "3  eat_001     What type of dish is served at My Quang Ba Mua\n",
       "4  eat_001       Can I dine at My Quang Ba Mua in the evening"
      ]
     },
     "execution_count": 64,
     "metadata": {},
     "output_type": "execute_result"
    }
   ],
   "source": [
    "df_question.head()"
   ]
  },
  {
   "cell_type": "code",
   "execution_count": 72,
   "id": "2b3176bf-aa51-48f4-b6a9-2211a2dcb244",
   "metadata": {},
   "outputs": [],
   "source": [
    "ground_truth = df_question.to_dict(orient='records')\n",
    "questions = df_question[['question', 'id']].values.tolist()"
   ]
  },
  {
   "cell_type": "code",
   "execution_count": 68,
   "id": "bc09dc8c-98e0-4ac2-b4d5-0a86e78a03db",
   "metadata": {},
   "outputs": [
    {
     "data": {
      "text/plain": [
       "{'id': 'eat_000', 'question': 'What type of dish does Bun Cha Ca Ba Lu serve?'}"
      ]
     },
     "execution_count": 68,
     "metadata": {},
     "output_type": "execute_result"
    }
   ],
   "source": [
    "ground_truth[0]"
   ]
  },
  {
   "cell_type": "code",
   "execution_count": 70,
   "id": "6d5d6b2a-d438-43f9-a667-36e209cbb44e",
   "metadata": {},
   "outputs": [],
   "source": [
    "def recall_at_k(search_fn, data, k=5, **kwargs):\n",
    "    hits = 0\n",
    "    for q, doc_id in data:\n",
    "        results = search_fn(q, top_k=k, **kwargs)\n",
    "        if any(r['id'] == doc_id for r in results):\n",
    "            hits += 1\n",
    "    return hits / len(data)"
   ]
  },
  {
   "cell_type": "code",
   "execution_count": 94,
   "id": "f2a3092b-120f-4f5d-b566-d64e8f9f74d2",
   "metadata": {},
   "outputs": [
    {
     "name": "stdout",
     "output_type": "stream",
     "text": [
      "BM25 recall@5: 0.8811659192825112\n",
      "Vector recall@5: 0.570627802690583\n",
      "Hybrid recall@5: 0.8553811659192825\n",
      "====After Proccess Querry===\n",
      "BM25 recall@5: 0.8811659192825112\n",
      "Vector recall@5: 0.5818385650224215\n",
      "Hybrid recall@5: 0.852017937219731\n"
     ]
    }
   ],
   "source": [
    "print('BM25 recall@5:', recall_at_k(bm25_search, questions))\n",
    "print('Vector recall@5:', recall_at_k(vector_search, questions))\n",
    "print('Hybrid recall@5:', recall_at_k(hybrid_search, questions))\n",
    "print('====After Proccess Querry===')\n",
    "print('BM25 recall@5:', recall_at_k(bm25_search_processed, questions))\n",
    "print('Vector recall@5:', recall_at_k(vector_search_processed, questions))\n",
    "print('Hybrid recall@5:', recall_at_k(hybrid_search_with_process_query, questions))\n"
   ]
  },
  {
   "cell_type": "code",
   "execution_count": 96,
   "id": "88be86ff-f7b0-4b08-87da-4cf67c4daf0b",
   "metadata": {},
   "outputs": [
    {
     "name": "stdout",
     "output_type": "stream",
     "text": [
      "k_rrf=30 -> recall@5 0.86\n",
      "k_rrf=60 -> recall@5 0.86\n",
      "k_rrf=90 -> recall@5 0.86\n",
      "Best k_rrf: (30, 0.8553811659192825)\n",
      "After Processing\n",
      "k_rrf=30 -> recall@5 0.85\n",
      "k_rrf=60 -> recall@5 0.85\n",
      "k_rrf=90 -> recall@5 0.85\n",
      "Best k_rrf: (30, 0.8553811659192825)\n"
     ]
    }
   ],
   "source": [
    "best = None\n",
    "for k_rrf in [30, 60, 90]:\n",
    "    score = recall_at_k(lambda q, top_k: hybrid_search(q, top_k=top_k, k_rrf=k_rrf), questions)\n",
    "    print(f'k_rrf={k_rrf} -> recall@5 {score:.2f}')\n",
    "    if not best or score > best[1]:\n",
    "        best = (k_rrf, score)\n",
    "print('Best k_rrf:', best)\n",
    "print('After Processing')\n",
    "for k_rrf in [30, 60, 90]:\n",
    "    score = recall_at_k(lambda q, top_k: hybrid_search_with_process_query(q, top_k=top_k, k_rrf=k_rrf), questions)\n",
    "    print(f'k_rrf={k_rrf} -> recall@5 {score:.2f}')\n",
    "    if not best or score > best[1]:\n",
    "        best = (k_rrf, score)\n",
    "print('Best k_rrf:', best)"
   ]
  },
  {
   "cell_type": "code",
   "execution_count": 78,
   "id": "89398358-cbd1-48f3-bb35-837851e0badc",
   "metadata": {},
   "outputs": [
    {
     "name": "stdout",
     "output_type": "stream",
     "text": [
      "Original search: [{'id': 'eat_000', 'score': 82.6334, 'name': 'Bun Cha Ca Ba Lu', 'description': 'grilled fish noodle soup', 'time': 'morning', 'price': '35k VND (~1.4$)', 'location': '319 Hung Vuong', 'area': 'center', 'note': 'Bun Cha Ca Ba Lu is known for its rich fish-based broth, crispy fried fish cakes, and fresh herbs.', 'type': 'eat'}, {'id': 'eat_084', 'score': 48.789257, 'name': 'Bun Cha Ca Ong Ta', 'description': 'grilled fish cake noodle soup', 'time': 'morning', 'price': '35k VND (~1.4$)', 'location': '113 Nguyen Van Thoai', 'area': 'beach', 'note': 'Ong Ta’s Bun Cha Ca is known for tender fish cake slices in a mildly sweet and spicy broth with green onions.', 'type': 'eat'}, {'id': 'eat_044', 'score': 31.157312, 'name': 'Bun Cha Ha Noi Co Nga', 'description': 'grilled pork with noodles and herbs', 'time': 'lunch', 'price': '45k VND (~1.8$)', 'location': '23 Le Duan', 'area': 'center', 'note': 'Bun Cha Co Nga offers Hanoi-style grilled pork patties in broth with cold noodles and garlic vinegar.', 'type': 'eat'}]\n",
      "Preprocessed: [{'id': 'eat_000', 'score': 82.6334, 'name': 'Bun Cha Ca Ba Lu', 'description': 'grilled fish noodle soup', 'time': 'morning', 'price': '35k VND (~1.4$)', 'location': '319 Hung Vuong', 'area': 'center', 'note': 'Bun Cha Ca Ba Lu is known for its rich fish-based broth, crispy fried fish cakes, and fresh herbs.', 'type': 'eat'}, {'id': 'eat_084', 'score': 48.789257, 'name': 'Bun Cha Ca Ong Ta', 'description': 'grilled fish cake noodle soup', 'time': 'morning', 'price': '35k VND (~1.4$)', 'location': '113 Nguyen Van Thoai', 'area': 'beach', 'note': 'Ong Ta’s Bun Cha Ca is known for tender fish cake slices in a mildly sweet and spicy broth with green onions.', 'type': 'eat'}, {'id': 'eat_044', 'score': 31.157312, 'name': 'Bun Cha Ha Noi Co Nga', 'description': 'grilled pork with noodles and herbs', 'time': 'lunch', 'price': '45k VND (~1.8$)', 'location': '23 Le Duan', 'area': 'center', 'note': 'Bun Cha Co Nga offers Hanoi-style grilled pork patties in broth with cold noodles and garlic vinegar.', 'type': 'eat'}]\n"
     ]
    }
   ],
   "source": [
    "sample_q = questions[0][0]\n",
    "print('Original search:', bm25_search(sample_q, top_k=3))\n",
    "print('Preprocessed:', bm25_search(preprocess_bm25_query(sample_q), top_k=3))"
   ]
  },
  {
   "cell_type": "code",
   "execution_count": 80,
   "id": "426a4468-14af-42ef-8ce5-ea59d98a9788",
   "metadata": {},
   "outputs": [
    {
     "name": "stdout",
     "output_type": "stream",
     "text": [
      "Q: What type of dish does Bun Cha Ca Ba Lu serve?\n",
      "Bun Cha Ca Ba Lu serves grilled fish noodle soup, specifically with fish-based broth, crispy fried fish cakes, and fresh herbs.\n",
      "\n",
      "Q: Is Bun Cha Ca Ba Lu a morning or evening meal option?\n",
      "According to the context, Bun Cha Ca Ba Lu is a morning meal option. It is listed under Time: morning.\n",
      "\n",
      "Q: How much can I expect to pay for a meal at Bun Cha Ca Ba Lu?\n",
      "Based on the context, you can expect to pay around 35k VND (~1.4$) for a meal at Bun Cha Ca Ba Lu, as it's clearly listed under the eat section of the database with that specific price.\n",
      "\n"
     ]
    }
   ],
   "source": [
    "for q, _ in questions[:3]:\n",
    "    print('Q:', q)\n",
    "    print(rag(q))\n",
    "    print()"
   ]
  },
  {
   "cell_type": "code",
   "execution_count": null,
   "id": "e58bf066-924a-4fc4-a777-3d9645484dbb",
   "metadata": {},
   "outputs": [],
   "source": []
  }
 ],
 "metadata": {
  "kernelspec": {
   "display_name": "Python [conda env:base] *",
   "language": "python",
   "name": "conda-base-py"
  },
  "language_info": {
   "codemirror_mode": {
    "name": "ipython",
    "version": 3
   },
   "file_extension": ".py",
   "mimetype": "text/x-python",
   "name": "python",
   "nbconvert_exporter": "python",
   "pygments_lexer": "ipython3",
   "version": "3.12.7"
  }
 },
 "nbformat": 4,
 "nbformat_minor": 5
}
